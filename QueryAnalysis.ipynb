{
 "cells": [
  {
   "cell_type": "code",
   "execution_count": 10,
   "metadata": {
    "collapsed": false
   },
   "outputs": [],
   "source": [
    "import pandas as pd\n",
    "import numpy as np\n",
    "import collections\n",
    "import re\n",
    "from pandas.tools.plotting import table\n",
    "import matplotlib.pyplot as plt\n",
    "from itertools import islice\n",
    "import warnings\n",
    "warnings.filterwarnings('ignore')\n",
    "%matplotlib inline"
   ]
  },
  {
   "cell_type": "code",
   "execution_count": 6,
   "metadata": {
    "collapsed": false,
    "scrolled": true
   },
   "outputs": [],
   "source": [
    "from dateutil.parser import parse\n",
    "def datemaker(date):\n",
    "    dt = parse(date)\n",
    "    return dt"
   ]
  },
  {
   "cell_type": "code",
   "execution_count": 7,
   "metadata": {
    "collapsed": true
   },
   "outputs": [],
   "source": [
    "# Morning till 11:59 | Afternoon 12-3pm | Evening 3pm-8:59pm | Night after 9\n",
    "def timeOfDay(date):\n",
    "    #dt = parse(date)\n",
    "    if date.hour < 12:\n",
    "        return \"Morning\"\n",
    "    if date.hour>= 12 and date.hour <= 15:\n",
    "        return \"Afternoon\"\n",
    "    if date.hour> 15 and date.hour < 21:\n",
    "        return \"Evening\"\n",
    "    else:\n",
    "        return \"Night\""
   ]
  },
  {
   "cell_type": "code",
   "execution_count": 8,
   "metadata": {
    "collapsed": false
   },
   "outputs": [],
   "source": [
    "def usergroup(userID):\n",
    "    if userDict[userID].TOD.value_counts(ascending=False).index.tolist()[0] is 'Morning':\n",
    "        return\n",
    "    if userDict[userID].TOD.value_counts(ascending=False).index.tolist()[0] is 'Afternoon':\n",
    "        return\n",
    "    if userDict[userID].TOD.value_counts(ascending=False).index.tolist()[0] is 'Evening':\n",
    "        return\n",
    "    if userDict[userID].TOD.value_counts(ascending=False).index.tolist()[0] is 'Night':\n",
    "        return"
   ]
  },
  {
   "cell_type": "code",
   "execution_count": 9,
   "metadata": {
    "collapsed": false
   },
   "outputs": [
    {
     "data": {
      "text/plain": [
       "(3614506, 5)"
      ]
     },
     "execution_count": 9,
     "metadata": {},
     "output_type": "execute_result"
    }
   ],
   "source": [
    "#Load the dataset\n",
    "data = pd.read_csv(\"/Users/Rohit/Desktop/Data/test.txt\", sep=\"\\t\")\n",
    "mydict = {}\n",
    "data.shape"
   ]
  },
  {
   "cell_type": "code",
   "execution_count": 11,
   "metadata": {
    "collapsed": false,
    "scrolled": true
   },
   "outputs": [],
   "source": [
    "timedf = data[[\"AnonID\", \"QueryTime\"]]\n",
    "timedf.head()\n",
    "timedf['QueryDate'] = pd.to_datetime(timedf['QueryTime']).apply(lambda x: x.date())\n",
    "timedf['QueryTimeStamp'] = pd.to_datetime(timedf['QueryTime']).apply(lambda x: x.time())\n",
    "timedf['TOD'] = timedf['QueryTimeStamp'].apply(lambda x: timeOfDay(x))"
   ]
  },
  {
   "cell_type": "code",
   "execution_count": 12,
   "metadata": {
    "collapsed": false
   },
   "outputs": [
    {
     "data": {
      "text/html": [
       "<div>\n",
       "<table border=\"1\" class=\"dataframe\">\n",
       "  <thead>\n",
       "    <tr style=\"text-align: right;\">\n",
       "      <th></th>\n",
       "      <th>AnonID</th>\n",
       "      <th>QueryTime</th>\n",
       "      <th>QueryDate</th>\n",
       "      <th>QueryTimeStamp</th>\n",
       "      <th>TOD</th>\n",
       "    </tr>\n",
       "  </thead>\n",
       "  <tbody>\n",
       "    <tr>\n",
       "      <th>0</th>\n",
       "      <td>479</td>\n",
       "      <td>2006-03-01 16:01:20</td>\n",
       "      <td>2006-03-01</td>\n",
       "      <td>16:01:20</td>\n",
       "      <td>Evening</td>\n",
       "    </tr>\n",
       "    <tr>\n",
       "      <th>1</th>\n",
       "      <td>479</td>\n",
       "      <td>2006-03-02 14:48:55</td>\n",
       "      <td>2006-03-02</td>\n",
       "      <td>14:48:55</td>\n",
       "      <td>Afternoon</td>\n",
       "    </tr>\n",
       "    <tr>\n",
       "      <th>2</th>\n",
       "      <td>479</td>\n",
       "      <td>2006-03-03 22:37:46</td>\n",
       "      <td>2006-03-03</td>\n",
       "      <td>22:37:46</td>\n",
       "      <td>Night</td>\n",
       "    </tr>\n",
       "    <tr>\n",
       "      <th>3</th>\n",
       "      <td>479</td>\n",
       "      <td>2006-03-03 22:42:42</td>\n",
       "      <td>2006-03-03</td>\n",
       "      <td>22:42:42</td>\n",
       "      <td>Night</td>\n",
       "    </tr>\n",
       "    <tr>\n",
       "      <th>4</th>\n",
       "      <td>479</td>\n",
       "      <td>2006-03-03 22:42:42</td>\n",
       "      <td>2006-03-03</td>\n",
       "      <td>22:42:42</td>\n",
       "      <td>Night</td>\n",
       "    </tr>\n",
       "  </tbody>\n",
       "</table>\n",
       "</div>"
      ],
      "text/plain": [
       "   AnonID            QueryTime   QueryDate QueryTimeStamp        TOD\n",
       "0     479  2006-03-01 16:01:20  2006-03-01       16:01:20    Evening\n",
       "1     479  2006-03-02 14:48:55  2006-03-02       14:48:55  Afternoon\n",
       "2     479  2006-03-03 22:37:46  2006-03-03       22:37:46      Night\n",
       "3     479  2006-03-03 22:42:42  2006-03-03       22:42:42      Night\n",
       "4     479  2006-03-03 22:42:42  2006-03-03       22:42:42      Night"
      ]
     },
     "execution_count": 12,
     "metadata": {},
     "output_type": "execute_result"
    }
   ],
   "source": [
    "timedf.head()"
   ]
  },
  {
   "cell_type": "code",
   "execution_count": 13,
   "metadata": {
    "collapsed": false
   },
   "outputs": [
    {
     "data": {
      "text/plain": [
       "66000"
      ]
     },
     "execution_count": 13,
     "metadata": {},
     "output_type": "execute_result"
    }
   ],
   "source": [
    "userlist = data.AnonID.unique()\n",
    "len(userlist) #No of unique users"
   ]
  },
  {
   "cell_type": "code",
   "execution_count": 14,
   "metadata": {
    "collapsed": false
   },
   "outputs": [],
   "source": [
    "total = 0\n",
    "for i in data.AnonID:\n",
    "    if i in mydict: \n",
    "        mydict[i] += 1\n",
    "    else: \n",
    "        mydict[i] = 1\n",
    "    total+=1"
   ]
  },
  {
   "cell_type": "code",
   "execution_count": 15,
   "metadata": {
    "collapsed": false
   },
   "outputs": [
    {
     "data": {
      "text/plain": [
       "66000"
      ]
     },
     "execution_count": 15,
     "metadata": {},
     "output_type": "execute_result"
    }
   ],
   "source": [
    "len(mydict) #Should be the same as userlist"
   ]
  },
  {
   "cell_type": "code",
   "execution_count": 16,
   "metadata": {
    "collapsed": false
   },
   "outputs": [
    {
     "name": "stdout",
     "output_type": "stream",
     "text": [
      "3614506\n"
     ]
    }
   ],
   "source": [
    "#Verifying dictionary is correct\n",
    "sum =0\n",
    "users =\"\"\n",
    "for k,v in mydict.items():\n",
    "    sum+=v   \n",
    "print(sum) #Should be same as shape[0]\n",
    "\n",
    "#Changing to % of total\n",
    "for k,v in mydict.items():\n",
    "    mydict[k] = (v/sum) * 100"
   ]
  },
  {
   "cell_type": "code",
   "execution_count": 17,
   "metadata": {
    "collapsed": false
   },
   "outputs": [],
   "source": [
    "#Find the most common users in this list to analyze their moves\n",
    "commonUsers = sorted(mydict.items(), key=lambda x:-x[1])[:10]\n",
    "# commonuserList = [i[0] for i in commonUsers]\n",
    "# commonuserFreq = [i[1] for i in commonUsers]\n",
    "# plt.bar(range(len(commonuserList)), commonuserFreq, align=\"center\")\n",
    "# plt.xticks(range(len(commonuserList)) , commonuserList, rotation = 70)\n",
    "# plt.show()"
   ]
  },
  {
   "cell_type": "code",
   "execution_count": 18,
   "metadata": {
    "collapsed": false
   },
   "outputs": [],
   "source": [
    "from difflib import SequenceMatcher\n",
    "\n",
    "def similar(a, b):\n",
    "    return round(SequenceMatcher(None, a, b).ratio(),2)"
   ]
  },
  {
   "cell_type": "markdown",
   "metadata": {},
   "source": [
    "# Exploring our Best Users"
   ]
  },
  {
   "cell_type": "code",
   "execution_count": 25,
   "metadata": {
    "collapsed": false
   },
   "outputs": [
    {
     "data": {
      "image/png": "[encoded data removed]",
      "text/plain": [
       "<matplotlib.figure.Figure at 0x118fa59e8>"
      ]
     },
     "metadata": {},
     "output_type": "display_data"
    }
   ],
   "source": [
    "mostActive = data[data.AnonID == commonUsers[0][0]]\n",
    "# mAunique = mostActive.Query.unique()\n",
    "(mostActive.AnonID.count() - mostActive.ItemRank.count())/mostActive.AnonID.count()\n",
    "values1 = [mostActive.ItemRank.count(),(mostActive.AnonID.count() - mostActive.ItemRank.count())]\n",
    "labels1 = ['Number of Queries Without Clicked URLs', 'Number of Queries With Clicked URLs'] \n",
    "colors1 = ['lightskyblue', 'lightcoral'] \n",
    "plt.axis('equal')\n",
    "plt.pie(values1, labels=labels1, autopct='%.2f', colors=colors1)\n",
    "plt.savefig('QueriesWithClicks.png')\n",
    "plt.show()"
   ]
  },
  {
   "cell_type": "markdown",
   "metadata": {},
   "source": [
    "### **17.05% of the queries lead to no clicks**"
   ]
  },
  {
   "cell_type": "code",
   "execution_count": 26,
   "metadata": {
    "collapsed": false
   },
   "outputs": [],
   "source": [
    "mAqueries = {}\n",
    "for i in mostActive.Query:\n",
    "    if i in mAqueries: \n",
    "        mAqueries[i] += 1\n",
    "    else: \n",
    "        mAqueries[i] = 1"
   ]
  },
  {
   "cell_type": "code",
   "execution_count": 27,
   "metadata": {
    "collapsed": false,
    "scrolled": true
   },
   "outputs": [],
   "source": [
    "mAqueries = sorted(mAqueries.items(), key=lambda x:-x[1])"
   ]
  },
  {
   "cell_type": "code",
   "execution_count": 28,
   "metadata": {
    "collapsed": false
   },
   "outputs": [],
   "source": [
    "keyys = 0\n",
    "totalsingle = 0\n",
    "for i in mAqueries:\n",
    "    if i[1] == 1:\n",
    "        totalsingle += mostActive.loc[mostActive.Query == i[0]].Query.count()\n",
    "        keyys += mostActive.loc[mostActive.Query == i[0]].ClickURL.isnull().count()"
   ]
  },
  {
   "cell_type": "code",
   "execution_count": 29,
   "metadata": {
    "collapsed": false
   },
   "outputs": [
    {
     "data": {
      "text/plain": [
       "0.0"
      ]
     },
     "execution_count": 29,
     "metadata": {},
     "output_type": "execute_result"
    }
   ],
   "source": [
    "onetimeSuccess = (totalsingle - keyys)/totalsingle\n",
    "onetimeSuccess"
   ]
  },
  {
   "cell_type": "markdown",
   "metadata": {},
   "source": [
    "### No search result that was searched for once worked properly. Why?"
   ]
  },
  {
   "cell_type": "markdown",
   "metadata": {},
   "source": [
    "### Using the Enchant Library I was able to do a spell check to test my hypothesis whether it was only mispelled words that don't lead to search results"
   ]
  },
  {
   "cell_type": "code",
   "execution_count": 30,
   "metadata": {
    "collapsed": false
   },
   "outputs": [],
   "source": [
    "import enchant\n",
    "d = enchant.Dict(\"en_US\")\n",
    "cspell=0\n",
    "csearch=[]\n",
    "wspell=0\n",
    "wsearch=[]\n",
    "for i in mAqueries:\n",
    "    ssum=0\n",
    "    for word in i[0].split():\n",
    "        ssum+= d.check(word)\n",
    "    if ssum==len(i[0].split()):\n",
    "        csearch+=i[0],\n",
    "        cspell+=1\n",
    "    else:\n",
    "        wsearch+=i[0]\n",
    "        wspell+=1"
   ]
  },
  {
   "cell_type": "code",
   "execution_count": 31,
   "metadata": {
    "collapsed": false
   },
   "outputs": [
    {
     "data": {
      "image/png": "[encoded data removed]",
      "text/plain": [
       "<matplotlib.figure.Figure at 0x11866a7b8>"
      ]
     },
     "metadata": {},
     "output_type": "display_data"
    }
   ],
   "source": [
    "values1 = [cspell,wspell]\n",
    "labels1 = ['Correctly Spelled', 'Wrongly Spelled'] \n",
    "colors1 = ['lightskyblue', 'lightcoral'] \n",
    "plt.axis('equal')\n",
    "plt.pie(values1, labels=labels1, autopct='%.2f', colors=colors1)\n",
    "plt.savefig('SpellCheckQueries.png')\n",
    "plt.show()"
   ]
  },
  {
   "cell_type": "markdown",
   "metadata": {},
   "source": [
    "### - 42.2% of these NaN return searches are mispelled. 57.8% is correctly typed, but no result still?  \n",
    "From a high level view, we can see a lot of x-rated material. So let's analyze that a bit!"
   ]
  },
  {
   "cell_type": "code",
   "execution_count": 32,
   "metadata": {
    "collapsed": false
   },
   "outputs": [],
   "source": [
    "vulgar = ['porn', 'dick', 'sexy', 'sex', 'pussy', 'ass', 'fuck', 'sperm']\n",
    "vcount = 0\n",
    "allvcount = 0\n",
    "for i in csearch:\n",
    "    for v in vulgar:\n",
    "        if v in i: \n",
    "            vcount+=1\n",
    "\n",
    "\n",
    "for i in mostActive.Query:\n",
    "    for v in vulgar:\n",
    "        if v in i: \n",
    "            allvcount+=1"
   ]
  },
  {
   "cell_type": "code",
   "execution_count": 33,
   "metadata": {
    "collapsed": false
   },
   "outputs": [
    {
     "name": "stdout",
     "output_type": "stream",
     "text": [
      "359\n",
      "3020\n"
     ]
    }
   ],
   "source": [
    "print(vcount)\n",
    "print(allvcount)"
   ]
  },
  {
   "cell_type": "code",
   "execution_count": 50,
   "metadata": {
    "collapsed": false
   },
   "outputs": [
    {
     "data": {
      "image/png": "[encoded data removed]",
      "text/plain": [
       "<matplotlib.figure.Figure at 0x12d23d4e0>"
      ]
     },
     "metadata": {},
     "output_type": "display_data"
    }
   ],
   "source": [
    "values1 = [vcount/allvcount,allvcount/allvcount]\n",
    "labels1 = ['Correctly spelled Vulgar Searches', 'All vulgar search attempts'] \n",
    "colors1 = ['lightskyblue', 'lightcoral'] \n",
    "plt.axis('equal')\n",
    "plt.pie(values1, labels=labels1, autopct='%.2f', colors=colors1)\n",
    "plt.savefig('VulgarQueries.png')\n",
    "plt.show()"
   ]
  },
  {
   "cell_type": "code",
   "execution_count": 34,
   "metadata": {
    "collapsed": false
   },
   "outputs": [
    {
     "data": {
      "image/png": "[encoded data removed]",
      "text/plain": [
       "<matplotlib.figure.Figure at 0x11900dc50>"
      ]
     },
     "metadata": {},
     "output_type": "display_data"
    }
   ],
   "source": [
    "vcount/cspell #Out of the correctly spelled searches\n",
    "values1 = [vcount/cspell,cspell/cspell]\n",
    "labels1 = ['Correctly spelled Vulgar Searches', 'All Correctly Spelled Queries'] \n",
    "colors1 = ['lightskyblue', 'lightcoral'] \n",
    "plt.axis('equal')\n",
    "plt.pie(values1, labels=labels1, autopct='%.2f', colors=colors1)\n",
    "plt.savefig('CorrectVulgarQueries.png')\n",
    "plt.show()"
   ]
  },
  {
   "cell_type": "code",
   "execution_count": 35,
   "metadata": {
    "collapsed": false
   },
   "outputs": [
    {
     "data": {
      "image/png": "[encoded data removed]",
      "text/plain": [
       "<matplotlib.figure.Figure at 0x118954b00>"
      ]
     },
     "metadata": {},
     "output_type": "display_data"
    }
   ],
   "source": [
    "(allvcount)/mostActive.Query.count() #Out of the total searches\n",
    "values1 = [(allvcount)/mostActive.Query.count(),mostActive.Query.count()/mostActive.Query.count()]\n",
    "labels1 = ['Vulgar Searches from Most Active Users', 'All Queries from Most Active Users'] \n",
    "colors1 = ['lightskyblue', 'lightcoral'] \n",
    "plt.axis('equal')\n",
    "plt.pie(values1, labels=labels1, autopct='%.2f', colors=colors1)\n",
    "plt.savefig('VulgarUsedByMostActiveUsers.png')\n",
    "plt.show()"
   ]
  },
  {
   "cell_type": "markdown",
   "metadata": {},
   "source": [
    "**Leaving out the vuglar search queries we can see that is gets rid of most of the NaNs and mostly leaves the mispelled queries. Hence the Product Manager of Search should:**\n",
    "* Incorporate a effective autocorrection feature so that the queries lead to proper search results\n",
    "* Look to implement better Semnantic understanding of the Search Query and map it to a more understandable form so that the query can get better Item Ranks.\n"
   ]
  }
 ],
 "metadata": {
  "kernelspec": {
   "display_name": "Python 3",
   "language": "python",
   "name": "python3"
  },
  "language_info": {
   "codemirror_mode": {
    "name": "ipython",
    "version": 3
   },
   "file_extension": ".py",
   "mimetype": "text/x-python",
   "name": "python",
   "nbconvert_exporter": "python",
   "pygments_lexer": "ipython3",
   "version": "3.5.1"
  }
 },
 "nbformat": 4,
 "nbformat_minor": 0
}
