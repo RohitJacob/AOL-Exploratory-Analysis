{
 "cells": [
  {
   "cell_type": "code",
   "execution_count": 18,
   "metadata": {
    "collapsed": false
   },
   "outputs": [],
   "source": [
    "import pandas as pd\n",
    "import numpy as np\n",
    "import collections\n",
    "import re\n",
    "import operator #\n",
    "import matplotlib.pyplot as plt\n",
    "from itertools import islice\n",
    "%matplotlib inline"
   ]
  },
  {
   "cell_type": "code",
   "execution_count": 19,
   "metadata": {
    "collapsed": false,
    "scrolled": true
   },
   "outputs": [],
   "source": [
    "from dateutil.parser import parse\n",
    "def datemaker(date):\n",
    "    dt = parse(date)\n",
    "    return dt"
   ]
  },
  {
   "cell_type": "code",
   "execution_count": 20,
   "metadata": {
    "collapsed": true
   },
   "outputs": [],
   "source": [
    "# Morning till 11:59 | Afternoon 12-3pm | Evening 3pm-8:59pm | Night after 9\n",
    "def timeOfDay(date):\n",
    "    #dt = parse(date)\n",
    "    if date.hour < 12:\n",
    "        return \"Morning\"\n",
    "    if date.hour>= 12 and date.hour <= 15:\n",
    "        return \"Afternoon\"\n",
    "    if date.hour> 15 and date.hour < 21:\n",
    "        return \"Evening\"\n",
    "    else:\n",
    "        return \"Night\""
   ]
  },
  {
   "cell_type": "code",
   "execution_count": 21,
   "metadata": {
    "collapsed": false
   },
   "outputs": [],
   "source": [
    "def usergroup(userID):\n",
    "    if userDict[userID].TOD.value_counts(ascending=False).index.tolist()[0] is 'Morning':\n",
    "        return\n",
    "    if userDict[userID].TOD.value_counts(ascending=False).index.tolist()[0] is 'Afternoon':\n",
    "        return\n",
    "    if userDict[userID].TOD.value_counts(ascending=False).index.tolist()[0] is 'Evening':\n",
    "        return\n",
    "    if userDict[userID].TOD.value_counts(ascending=False).index.tolist()[0] is 'Night':\n",
    "        return"
   ]
  },
  {
   "cell_type": "code",
   "execution_count": 5,
   "metadata": {
    "collapsed": false
   },
   "outputs": [
    {
     "data": {
      "text/plain": [
       "(3614506, 5)"
      ]
     },
     "execution_count": 5,
     "metadata": {},
     "output_type": "execute_result"
    }
   ],
   "source": [
    "#Load the dataset\n",
    "data = pd.read_csv(\"/Users/Rohit/Desktop/Data/test.txt\", sep=\"\\t\")\n",
    "mydict = {}\n",
    "data.shape"
   ]
  },
  {
   "cell_type": "code",
   "execution_count": 6,
   "metadata": {
    "collapsed": false,
    "scrolled": true
   },
   "outputs": [
    {
     "name": "stderr",
     "output_type": "stream",
     "text": [
      "//anaconda/lib/python3.5/site-packages/ipykernel/__main__.py:3: SettingWithCopyWarning: \n",
      "A value is trying to be set on a copy of a slice from a DataFrame.\n",
      "Try using .loc[row_indexer,col_indexer] = value instead\n",
      "\n",
      "See the caveats in the documentation: http://pandas.pydata.org/pandas-docs/stable/indexing.html#indexing-view-versus-copy\n",
      "  app.launch_new_instance()\n",
      "//anaconda/lib/python3.5/site-packages/ipykernel/__main__.py:4: SettingWithCopyWarning: \n",
      "A value is trying to be set on a copy of a slice from a DataFrame.\n",
      "Try using .loc[row_indexer,col_indexer] = value instead\n",
      "\n",
      "See the caveats in the documentation: http://pandas.pydata.org/pandas-docs/stable/indexing.html#indexing-view-versus-copy\n"
     ]
    }
   ],
   "source": [
    "# timedf = data[[\"AnonID\", \"QueryTime\"]]\n",
    "# timedf.head()\n",
    "# timedf['QueryDate'] = pd.to_datetime(timedf['QueryTime']).apply(lambda x: x.date())\n",
    "# timedf['QueryTimeStamp'] = pd.to_datetime(timedf['QueryTime']).apply(lambda x: x.time())\n",
    "# timedf['TOD'] = timedf['QueryTimeStamp'].apply(lambda x: timeOfDay(x))"
   ]
  },
  {
   "cell_type": "code",
   "execution_count": 7,
   "metadata": {
    "collapsed": false
   },
   "outputs": [
    {
     "data": {
      "text/html": [
       "<div>\n",
       "<table border=\"1\" class=\"dataframe\">\n",
       "  <thead>\n",
       "    <tr style=\"text-align: right;\">\n",
       "      <th></th>\n",
       "      <th>AnonID</th>\n",
       "      <th>QueryTime</th>\n",
       "      <th>QueryDate</th>\n",
       "      <th>QueryTimeStamp</th>\n",
       "      <th>TOD</th>\n",
       "    </tr>\n",
       "  </thead>\n",
       "  <tbody>\n",
       "    <tr>\n",
       "      <th>0</th>\n",
       "      <td>479</td>\n",
       "      <td>2006-03-01 16:01:20</td>\n",
       "      <td>2006-03-01</td>\n",
       "      <td>16:01:20</td>\n",
       "      <td>Evening</td>\n",
       "    </tr>\n",
       "    <tr>\n",
       "      <th>1</th>\n",
       "      <td>479</td>\n",
       "      <td>2006-03-02 14:48:55</td>\n",
       "      <td>2006-03-02</td>\n",
       "      <td>14:48:55</td>\n",
       "      <td>Afternoon</td>\n",
       "    </tr>\n",
       "    <tr>\n",
       "      <th>2</th>\n",
       "      <td>479</td>\n",
       "      <td>2006-03-03 22:37:46</td>\n",
       "      <td>2006-03-03</td>\n",
       "      <td>22:37:46</td>\n",
       "      <td>Night</td>\n",
       "    </tr>\n",
       "    <tr>\n",
       "      <th>3</th>\n",
       "      <td>479</td>\n",
       "      <td>2006-03-03 22:42:42</td>\n",
       "      <td>2006-03-03</td>\n",
       "      <td>22:42:42</td>\n",
       "      <td>Night</td>\n",
       "    </tr>\n",
       "    <tr>\n",
       "      <th>4</th>\n",
       "      <td>479</td>\n",
       "      <td>2006-03-03 22:42:42</td>\n",
       "      <td>2006-03-03</td>\n",
       "      <td>22:42:42</td>\n",
       "      <td>Night</td>\n",
       "    </tr>\n",
       "  </tbody>\n",
       "</table>\n",
       "</div>"
      ],
      "text/plain": [
       "   AnonID            QueryTime   QueryDate QueryTimeStamp        TOD\n",
       "0     479  2006-03-01 16:01:20  2006-03-01       16:01:20    Evening\n",
       "1     479  2006-03-02 14:48:55  2006-03-02       14:48:55  Afternoon\n",
       "2     479  2006-03-03 22:37:46  2006-03-03       22:37:46      Night\n",
       "3     479  2006-03-03 22:42:42  2006-03-03       22:42:42      Night\n",
       "4     479  2006-03-03 22:42:42  2006-03-03       22:42:42      Night"
      ]
     },
     "execution_count": 7,
     "metadata": {},
     "output_type": "execute_result"
    }
   ],
   "source": [
    "timedf.head()"
   ]
  },
  {
   "cell_type": "code",
   "execution_count": 8,
   "metadata": {
    "collapsed": false
   },
   "outputs": [
    {
     "data": {
      "text/plain": [
       "66000"
      ]
     },
     "execution_count": 8,
     "metadata": {},
     "output_type": "execute_result"
    }
   ],
   "source": [
    "userlist = data.AnonID.unique()\n",
    "len(userlist) #No of unique users"
   ]
  },
  {
   "cell_type": "code",
   "execution_count": 1,
   "metadata": {
    "collapsed": false
   },
   "outputs": [],
   "source": [
    "# for user in userlist:\n",
    "#     print(user)"
   ]
  },
  {
   "cell_type": "code",
   "execution_count": 9,
   "metadata": {
    "collapsed": false
   },
   "outputs": [],
   "source": [
    "#for every user, which TOD has highest frequency\n",
    "#    cluster user based on type of user (based on TOD)\n",
    "# Each User | TOD | Freq"
   ]
  },
  {
   "cell_type": "code",
   "execution_count": 13,
   "metadata": {
    "collapsed": false,
    "scrolled": true
   },
   "outputs": [],
   "source": []
  },
  {
   "cell_type": "code",
   "execution_count": null,
   "metadata": {
    "collapsed": false
   },
   "outputs": [],
   "source": []
  },
  {
   "cell_type": "code",
   "execution_count": 16,
   "metadata": {
    "collapsed": false
   },
   "outputs": [],
   "source": [
    "# total = 0\n",
    "# for i in data.AnonID:\n",
    "#     if i in mydict: \n",
    "#         mydict[i] += 1\n",
    "#     else: \n",
    "#         mydict[i] = 1\n",
    "#     total+=1"
   ]
  },
  {
   "cell_type": "code",
   "execution_count": 50,
   "metadata": {
    "collapsed": false
   },
   "outputs": [
    {
     "data": {
      "text/plain": [
       "66000"
      ]
     },
     "execution_count": 50,
     "metadata": {},
     "output_type": "execute_result"
    }
   ],
   "source": [
    "len(mydict)"
   ]
  },
  {
   "cell_type": "code",
   "execution_count": 51,
   "metadata": {
    "collapsed": false
   },
   "outputs": [
    {
     "name": "stdout",
     "output_type": "stream",
     "text": [
      "3614506\n"
     ]
    }
   ],
   "source": [
    "# #Verifying dictionary is correct\n",
    "# sum =0\n",
    "# users =\"\"\n",
    "# for k,v in mydict.items():\n",
    "#     sum+=v   \n",
    "# print(sum) #Should be same as shape[0]\n",
    "\n",
    "# #Changing to % of total\n",
    "# for k,v in mydict.items():\n",
    "#     mydict[k] = (v/sum) * 100"
   ]
  },
  {
   "cell_type": "code",
   "execution_count": 52,
   "metadata": {
    "collapsed": false
   },
   "outputs": [
    {
     "data": {
      "image/png": "[encoded data removed]",
      "text/plain": [
       "<matplotlib.figure.Figure at 0x177e384e0>"
      ]
     },
     "metadata": {},
     "output_type": "display_data"
    }
   ],
   "source": [
    "#Find the most common users in this list to analyze their moves\n",
    "commonUsers = sorted(mydict.items(), key=lambda x:-x[1])[:10]\n",
    "commonuserList = [i[0] for i in commonUsers]\n",
    "commonuserFreq = [i[1] for i in commonUsers]\n",
    "plt.bar(range(len(commonuserList)), commonuserFreq, align=\"center\")\n",
    "plt.xticks(range(len(commonuserList)) , commonuserList, rotation = 70)\n",
    "plt.show()"
   ]
  },
  {
   "cell_type": "code",
   "execution_count": 23,
   "metadata": {
    "collapsed": false
   },
   "outputs": [],
   "source": [
    "from difflib import SequenceMatcher\n",
    "\n",
    "def similar(a, b):\n",
    "    return round(SequenceMatcher(None, a, b).ratio(),2)"
   ]
  },
  {
   "cell_type": "code",
   "execution_count": 52,
   "metadata": {
    "collapsed": false
   },
   "outputs": [
    {
     "data": {
      "text/plain": [
       "0.17054151624548736"
      ]
     },
     "execution_count": 52,
     "metadata": {},
     "output_type": "execute_result"
    }
   ],
   "source": [
    "#Exploring our best user\n",
    "mostActive = data[data.AnonID == commonUsers[0][0]]\n",
    "mAunique = mostActive.Query.unique()\n",
    "(mostActive.AnonID.count() - mostActive.ItemRank.count())/mostActive.AnonID.count()"
   ]
  },
  {
   "cell_type": "markdown",
   "metadata": {},
   "source": [
    "17.05% of the queries lead to no clicks"
   ]
  },
  {
   "cell_type": "code",
   "execution_count": 53,
   "metadata": {
    "collapsed": false
   },
   "outputs": [],
   "source": [
    "mAqueries = {}\n",
    "for i in mostActive.Query:\n",
    "    if i in mAqueries: \n",
    "        mAqueries[i] += 1\n",
    "    else: \n",
    "        mAqueries[i] = 1"
   ]
  },
  {
   "cell_type": "code",
   "execution_count": 54,
   "metadata": {
    "collapsed": false,
    "scrolled": true
   },
   "outputs": [],
   "source": [
    "mAqueries = sorted(mAqueries.items(), key=lambda x:-x[1])"
   ]
  },
  {
   "cell_type": "code",
   "execution_count": 55,
   "metadata": {
    "collapsed": false
   },
   "outputs": [],
   "source": [
    "keyys = 0\n",
    "totalsingle = 0\n",
    "for i in mAqueries:\n",
    "    #print(i[1]) prints tuple (x,y)\n",
    "    if i[1] == 1:\n",
    "        #print(i[0]) prints the query\n",
    "        #Total number of elements that were searched once.\n",
    "        totalsingle += mostActive.loc[mostActive.Query == i[0]].Query.count()\n",
    "        #Total number of elements that lead to a NaN ClickURL\n",
    "        keyys += mostActive.loc[mostActive.Query == i[0]].ClickURL.isnull().count()"
   ]
  },
  {
   "cell_type": "code",
   "execution_count": 56,
   "metadata": {
    "collapsed": false
   },
   "outputs": [
    {
     "data": {
      "text/plain": [
       "0.0"
      ]
     },
     "execution_count": 56,
     "metadata": {},
     "output_type": "execute_result"
    }
   ],
   "source": [
    "onetimeSuccess = (totalsingle - keyys)/totalsingle\n",
    "onetimeSuccess"
   ]
  },
  {
   "cell_type": "markdown",
   "metadata": {},
   "source": [
    "No search result that was searched for once worked properly. Why?"
   ]
  },
  {
   "cell_type": "code",
   "execution_count": 57,
   "metadata": {
    "collapsed": false
   },
   "outputs": [],
   "source": [
    "import enchant\n",
    "d = enchant.Dict(\"en_US\")\n",
    "cspell=0\n",
    "csearch=[]\n",
    "wspell=0\n",
    "wsearch=[]\n",
    "for i in mAqueries:\n",
    "    ssum=0\n",
    "    for word in i[0].split():\n",
    "        ssum+= d.check(word)\n",
    "    if ssum==len(i[0].split()):\n",
    "        csearch+=i[0],\n",
    "        cspell+=1\n",
    "    else:\n",
    "        wsearch+=i[0]\n",
    "        wspell+=1"
   ]
  },
  {
   "cell_type": "code",
   "execution_count": 58,
   "metadata": {
    "collapsed": false
   },
   "outputs": [
    {
     "data": {
      "text/plain": [
       "0.421551724137931"
      ]
     },
     "execution_count": 58,
     "metadata": {},
     "output_type": "execute_result"
    }
   ],
   "source": [
    "(wspell/(cspell+wspell))"
   ]
  },
  {
   "cell_type": "markdown",
   "metadata": {},
   "source": [
    "42.2% of these NaN return searches are mispelled. 57.8% is correctly typed, but no result still?  \n",
    "From a high level view, we can see a lot of x-rated material."
   ]
  },
  {
   "cell_type": "code",
   "execution_count": 59,
   "metadata": {
    "collapsed": false
   },
   "outputs": [],
   "source": [
    "vulgar = ['porn', 'dick', 'sexy', 'sex', 'pussy', 'ass', 'fuck', 'sperm']\n",
    "vcount = 0\n",
    "allvcount = 0\n",
    "for i in csearch:\n",
    "    for v in vulgar:\n",
    "        if v in i: \n",
    "            vcount+=1\n",
    "\n",
    "\n",
    "for i in mostActive.Query:\n",
    "    for v in vulgar:\n",
    "        if v in i: \n",
    "            allvcount+=1"
   ]
  },
  {
   "cell_type": "code",
   "execution_count": 60,
   "metadata": {
    "collapsed": false
   },
   "outputs": [
    {
     "name": "stdout",
     "output_type": "stream",
     "text": [
      "359\n",
      "3020\n"
     ]
    }
   ],
   "source": [
    "print(vcount)\n",
    "print(allvcount)"
   ]
  },
  {
   "cell_type": "code",
   "execution_count": 61,
   "metadata": {
    "collapsed": false
   },
   "outputs": [
    {
     "data": {
      "text/plain": [
       "0.5350223546944859"
      ]
     },
     "execution_count": 61,
     "metadata": {},
     "output_type": "execute_result"
    }
   ],
   "source": [
    "vcount/cspell #Out of the correctly spelled searches"
   ]
  },
  {
   "cell_type": "code",
   "execution_count": 62,
   "metadata": {
    "collapsed": false
   },
   "outputs": [
    {
     "data": {
      "text/plain": [
       "0.43610108303249095"
      ]
     },
     "execution_count": 62,
     "metadata": {},
     "output_type": "execute_result"
    }
   ],
   "source": [
    "(allvcount)/mostActive.Query.count() #Out of the total searches"
   ]
  },
  {
   "cell_type": "markdown",
   "metadata": {},
   "source": [
    "53.5% of the correctly spelled words were vulgar and they did not have any ClickURL probably because the user didn't want to leave an internet trace for such things! \n",
    "\n",
    "Leaving out the vuglar search queries we can see that is gets rid of most of the NaNs and mostly leaves the mispelled queries."
   ]
  },
  {
   "cell_type": "code",
   "execution_count": 63,
   "metadata": {
    "collapsed": false
   },
   "outputs": [],
   "source": [
    "#decent = mostActive[mostActive['Query'].isin(vulgar)]\n",
    "#decent = mostActive[mostActive['Query'].str.contains(vulgar)]\n",
    "mAdecent = mostActive[~mostActive['Query'].str.contains('|'.join(vulgar))]"
   ]
  },
  {
   "cell_type": "code",
   "execution_count": 64,
   "metadata": {
    "collapsed": false
   },
   "outputs": [
    {
     "data": {
      "text/plain": [
       "AnonID       4503\n",
       "Query        4503\n",
       "QueryTime    4503\n",
       "ItemRank     3647\n",
       "ClickURL     3647\n",
       "dtype: int64"
      ]
     },
     "execution_count": 64,
     "metadata": {},
     "output_type": "execute_result"
    }
   ],
   "source": [
    "mAdecent.count()"
   ]
  },
  {
   "cell_type": "code",
   "execution_count": null,
   "metadata": {
    "collapsed": false
   },
   "outputs": [],
   "source": [
    "mA"
   ]
  },
  {
   "cell_type": "code",
   "execution_count": 66,
   "metadata": {
    "collapsed": false
   },
   "outputs": [
    {
     "name": "stdout",
     "output_type": "stream",
     "text": [
      "2006-03-01 16:01:20\n"
     ]
    },
    {
     "data": {
      "text/plain": [
       "datetime.datetime(2006, 3, 1, 16, 1, 20)"
      ]
     },
     "execution_count": 66,
     "metadata": {},
     "output_type": "execute_result"
    }
   ],
   "source": [
    "print(data.QueryTime[0])\n",
    "datemaker(data.QueryTime[0])"
   ]
  },
  {
   "cell_type": "code",
   "execution_count": 27,
   "metadata": {
    "collapsed": false
   },
   "outputs": [
    {
     "data": {
      "text/plain": [
       "'Evening'"
      ]
     },
     "execution_count": 27,
     "metadata": {},
     "output_type": "execute_result"
    }
   ],
   "source": [
    "timeOfDay(data.QueryTime[0])"
   ]
  },
  {
   "cell_type": "code",
   "execution_count": 83,
   "metadata": {
    "collapsed": false
   },
   "outputs": [],
   "source": [
    "tot_timedict = {}\n",
    "for i in data.QueryTime:\n",
    "    tod = timeOfDay(i)\n",
    "    if tod in tot_timedict:\n",
    "        tot_timedict[tod] += 1\n",
    "    else: \n",
    "        tot_timedict[tod] = 1"
   ]
  },
  {
   "cell_type": "code",
   "execution_count": 80,
   "metadata": {
    "collapsed": false
   },
   "outputs": [],
   "source": [
    "#data[AnonID='3318459']\n",
    "for i in commonUsers:\n",
    "    #print(i[0])\n",
    "    temp = data.loc[data['AnonID'] == i[0]]\n",
    "    for j in temp.QueryTime:\n",
    "        tod = timeOfDay(j)\n",
    "        if tod in mAtimedict:\n",
    "            mAtimedict[tod] += 1\n",
    "        else: \n",
    "            mAtimedict[tod] = 1\n",
    "        timetotal+=1"
   ]
  },
  {
   "cell_type": "code",
   "execution_count": 88,
   "metadata": {
    "collapsed": false
   },
   "outputs": [
    {
     "name": "stdout",
     "output_type": "stream",
     "text": [
      "{'Night': 682431, 'Evening': 1160585, 'Afternoon': 732270, 'Morning': 1039220}\n",
      "{'Night': 17495, 'Morning': 46400, 'Evening': 32471, 'Afternoon': 20659}\n"
     ]
    }
   ],
   "source": [
    "print(tot_timedict)\n",
    "print(mAtimedict)"
   ]
  },
  {
   "cell_type": "code",
   "execution_count": 102,
   "metadata": {
    "collapsed": false
   },
   "outputs": [],
   "source": [
    "df = data\n",
    "df['TOD'] = df.QueryTime.apply(lambda x: timeOfDay(x))\n",
    "df['Time'] = df.QueryTime.apply(lambda x: datemaker(x))\n",
    "#df['TOD'] = timeOfDay(df.QueryTime)"
   ]
  },
  {
   "cell_type": "code",
   "execution_count": null,
   "metadata": {
    "collapsed": true
   },
   "outputs": [],
   "source": [
    "df.head()"
   ]
  },
  {
   "cell_type": "code",
   "execution_count": null,
   "metadata": {
    "collapsed": true
   },
   "outputs": [],
   "source": [
    "dates = matplotlib.dates.date2num(list_of_datetimes)\n",
    "plot_date(dates, values)"
   ]
  }
 ],
 "metadata": {
  "kernelspec": {
   "display_name": "Python 3",
   "language": "python",
   "name": "python3"
  },
  "language_info": {
   "codemirror_mode": {
    "name": "ipython",
    "version": 3
   },
   "file_extension": ".py",
   "mimetype": "text/x-python",
   "name": "python",
   "nbconvert_exporter": "python",
   "pygments_lexer": "ipython3",
   "version": "3.5.1"
  }
 },
 "nbformat": 4,
 "nbformat_minor": 0
}
