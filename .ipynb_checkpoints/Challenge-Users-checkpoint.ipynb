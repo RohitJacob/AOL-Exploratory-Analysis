{
 "cells": [
  {
   "cell_type": "code",
   "execution_count": 2,
   "metadata": {
    "collapsed": false
   },
   "outputs": [],
   "source": [
    "import pandas as pd\n",
    "import numpy as np\n",
    "import collections\n",
    "import operator #\n",
    "import matplotlib.pyplot as plt\n",
    "from itertools import islice\n",
    "%matplotlib inline"
   ]
  },
  {
   "cell_type": "code",
   "execution_count": 3,
   "metadata": {
    "collapsed": false
   },
   "outputs": [
    {
     "data": {
      "text/plain": [
       "(3614506, 5)"
      ]
     },
     "execution_count": 3,
     "metadata": {},
     "output_type": "execute_result"
    }
   ],
   "source": [
    "#Load the dataset\n",
    "data = pd.read_csv(\"/Users/Rohit/Desktop/Data/test.txt\", sep=\"\\t\")\n",
    "mydict = {}\n",
    "data.shape"
   ]
  },
  {
   "cell_type": "code",
   "execution_count": 4,
   "metadata": {
    "collapsed": false,
    "scrolled": true
   },
   "outputs": [
    {
     "data": {
      "text/html": [
       "<div>\n",
       "<table border=\"1\" class=\"dataframe\">\n",
       "  <thead>\n",
       "    <tr style=\"text-align: right;\">\n",
       "      <th></th>\n",
       "      <th>AnonID</th>\n",
       "      <th>Query</th>\n",
       "      <th>QueryTime</th>\n",
       "      <th>ItemRank</th>\n",
       "      <th>ClickURL</th>\n",
       "    </tr>\n",
       "  </thead>\n",
       "  <tbody>\n",
       "    <tr>\n",
       "      <th>0</th>\n",
       "      <td>479</td>\n",
       "      <td>family guy</td>\n",
       "      <td>2006-03-01 16:01:20</td>\n",
       "      <td>NaN</td>\n",
       "      <td>NaN</td>\n",
       "    </tr>\n",
       "    <tr>\n",
       "      <th>1</th>\n",
       "      <td>479</td>\n",
       "      <td>also sprach zarathustra</td>\n",
       "      <td>2006-03-02 14:48:55</td>\n",
       "      <td>NaN</td>\n",
       "      <td>NaN</td>\n",
       "    </tr>\n",
       "    <tr>\n",
       "      <th>2</th>\n",
       "      <td>479</td>\n",
       "      <td>family guy movie references</td>\n",
       "      <td>2006-03-03 22:37:46</td>\n",
       "      <td>1.0</td>\n",
       "      <td>http://www.familyguyfiles.com</td>\n",
       "    </tr>\n",
       "    <tr>\n",
       "      <th>3</th>\n",
       "      <td>479</td>\n",
       "      <td>top grossing movies of all time</td>\n",
       "      <td>2006-03-03 22:42:42</td>\n",
       "      <td>1.0</td>\n",
       "      <td>http://movieweb.com</td>\n",
       "    </tr>\n",
       "    <tr>\n",
       "      <th>4</th>\n",
       "      <td>479</td>\n",
       "      <td>top grossing movies of all time</td>\n",
       "      <td>2006-03-03 22:42:42</td>\n",
       "      <td>2.0</td>\n",
       "      <td>http://www.imdb.com</td>\n",
       "    </tr>\n",
       "  </tbody>\n",
       "</table>\n",
       "</div>"
      ],
      "text/plain": [
       "   AnonID                            Query            QueryTime  ItemRank  \\\n",
       "0     479                       family guy  2006-03-01 16:01:20       NaN   \n",
       "1     479          also sprach zarathustra  2006-03-02 14:48:55       NaN   \n",
       "2     479      family guy movie references  2006-03-03 22:37:46       1.0   \n",
       "3     479  top grossing movies of all time  2006-03-03 22:42:42       1.0   \n",
       "4     479  top grossing movies of all time  2006-03-03 22:42:42       2.0   \n",
       "\n",
       "                        ClickURL  \n",
       "0                            NaN  \n",
       "1                            NaN  \n",
       "2  http://www.familyguyfiles.com  \n",
       "3            http://movieweb.com  \n",
       "4            http://www.imdb.com  "
      ]
     },
     "execution_count": 4,
     "metadata": {},
     "output_type": "execute_result"
    }
   ],
   "source": [
    "data.head()"
   ]
  },
  {
   "cell_type": "code",
   "execution_count": 6,
   "metadata": {
    "collapsed": false
   },
   "outputs": [
    {
     "data": {
      "text/plain": [
       "66000"
      ]
     },
     "execution_count": 6,
     "metadata": {},
     "output_type": "execute_result"
    }
   ],
   "source": [
    "userlist = data.AnonID.unique()\n",
    "len(userlist) #No of unique users"
   ]
  },
  {
   "cell_type": "code",
   "execution_count": 7,
   "metadata": {
    "collapsed": false
   },
   "outputs": [],
   "source": [
    "total = 0\n",
    "for i in data.AnonID:\n",
    "    if i in mydict: \n",
    "        mydict[i] += 1\n",
    "    else: \n",
    "        mydict[i] = 1\n",
    "    total+=1"
   ]
  },
  {
   "cell_type": "code",
   "execution_count": 9,
   "metadata": {
    "collapsed": false
   },
   "outputs": [
    {
     "data": {
      "text/plain": [
       "66000"
      ]
     },
     "execution_count": 9,
     "metadata": {},
     "output_type": "execute_result"
    }
   ],
   "source": [
    "len(mydict)"
   ]
  },
  {
   "cell_type": "code",
   "execution_count": 10,
   "metadata": {
    "collapsed": false
   },
   "outputs": [
    {
     "name": "stdout",
     "output_type": "stream",
     "text": [
      "3614506\n"
     ]
    }
   ],
   "source": [
    "#Verifying dictionary is correct\n",
    "sum =0\n",
    "users =\"\"\n",
    "for k,v in mydict.items():\n",
    "    sum+=v   \n",
    "print(sum) #Should be same as shape[0]\n",
    "\n",
    "#Changing to % of total\n",
    "for k,v in mydict.items():\n",
    "    mydict[k] = (v/sum) * 100"
   ]
  },
  {
   "cell_type": "code",
   "execution_count": null,
   "metadata": {
    "collapsed": false
   },
   "outputs": [],
   "source": []
  },
  {
   "cell_type": "code",
   "execution_count": 99,
   "metadata": {
    "collapsed": false
   },
   "outputs": [
    {
     "data": {
      "image/png": "[encoded data removed]",
      "text/plain": [
       "<matplotlib.figure.Figure at 0x1dae59f60>"
      ]
     },
     "metadata": {},
     "output_type": "display_data"
    }
   ],
   "source": [
    "%matplotlib inline\n",
    "plt.bar(range(len(mydict)), mydict.values(), align=\"center\")\n",
    "plt.xticks(range(len(mydict)), list(mydict.keys()), rotation = 90)\n",
    "plt.show()"
   ]
  },
  {
   "cell_type": "code",
   "execution_count": 11,
   "metadata": {
    "collapsed": false
   },
   "outputs": [
    {
     "data": {
      "image/png": "[encoded data removed]",
      "text/plain": [
       "<matplotlib.figure.Figure at 0x117e9f5f8>"
      ]
     },
     "metadata": {},
     "output_type": "display_data"
    }
   ],
   "source": [
    "#Find the most common users in this list to analyze their moves\n",
    "commonUsers = sorted(mydict.items(), key=lambda x:-x[1])[:10]\n",
    "commonuserList = [i[0] for i in commonUsers]\n",
    "commonuserFreq = [i[1] for i in commonUsers]\n",
    "plt.bar(range(len(commonuserList)), commonuserFreq, align=\"center\")\n",
    "plt.xticks(range(len(commonuserList)) , commonuserList, rotation = 70)\n",
    "plt.show()"
   ]
  },
  {
   "cell_type": "code",
   "execution_count": 12,
   "metadata": {
    "collapsed": false
   },
   "outputs": [
    {
     "data": {
      "text/html": [
       "<div>\n",
       "<table border=\"1\" class=\"dataframe\">\n",
       "  <thead>\n",
       "    <tr style=\"text-align: right;\">\n",
       "      <th></th>\n",
       "      <th>AnonID</th>\n",
       "      <th>ItemRank</th>\n",
       "    </tr>\n",
       "  </thead>\n",
       "  <tbody>\n",
       "    <tr>\n",
       "      <th>count</th>\n",
       "      <td>6925.0</td>\n",
       "      <td>5744.000000</td>\n",
       "    </tr>\n",
       "    <tr>\n",
       "      <th>mean</th>\n",
       "      <td>3318459.0</td>\n",
       "      <td>47.974930</td>\n",
       "    </tr>\n",
       "    <tr>\n",
       "      <th>std</th>\n",
       "      <td>0.0</td>\n",
       "      <td>72.607223</td>\n",
       "    </tr>\n",
       "    <tr>\n",
       "      <th>min</th>\n",
       "      <td>3318459.0</td>\n",
       "      <td>1.000000</td>\n",
       "    </tr>\n",
       "    <tr>\n",
       "      <th>25%</th>\n",
       "      <td>3318459.0</td>\n",
       "      <td>4.000000</td>\n",
       "    </tr>\n",
       "    <tr>\n",
       "      <th>50%</th>\n",
       "      <td>3318459.0</td>\n",
       "      <td>14.000000</td>\n",
       "    </tr>\n",
       "    <tr>\n",
       "      <th>75%</th>\n",
       "      <td>3318459.0</td>\n",
       "      <td>59.000000</td>\n",
       "    </tr>\n",
       "    <tr>\n",
       "      <th>max</th>\n",
       "      <td>3318459.0</td>\n",
       "      <td>485.000000</td>\n",
       "    </tr>\n",
       "  </tbody>\n",
       "</table>\n",
       "</div>"
      ],
      "text/plain": [
       "          AnonID     ItemRank\n",
       "count     6925.0  5744.000000\n",
       "mean   3318459.0    47.974930\n",
       "std          0.0    72.607223\n",
       "min    3318459.0     1.000000\n",
       "25%    3318459.0     4.000000\n",
       "50%    3318459.0    14.000000\n",
       "75%    3318459.0    59.000000\n",
       "max    3318459.0   485.000000"
      ]
     },
     "execution_count": 12,
     "metadata": {},
     "output_type": "execute_result"
    }
   ],
   "source": [
    "#Exploring our best user\n",
    "bestuser = data[data.AnonID == commonUsers[0][0]]\n",
    "bestuser.describe()"
   ]
  },
  {
   "cell_type": "code",
   "execution_count": null,
   "metadata": {
    "collapsed": false
   },
   "outputs": [],
   "source": [
    "bestUser"
   ]
  },
  {
   "cell_type": "code",
   "execution_count": null,
   "metadata": {
    "collapsed": true
   },
   "outputs": [],
   "source": []
  }
 ],
 "metadata": {
  "kernelspec": {
   "display_name": "Python 3",
   "language": "python",
   "name": "python3"
  },
  "language_info": {
   "codemirror_mode": {
    "name": "ipython",
    "version": 3
   },
   "file_extension": ".py",
   "mimetype": "text/x-python",
   "name": "python",
   "nbconvert_exporter": "python",
   "pygments_lexer": "ipython3",
   "version": "3.5.1"
  }
 },
 "nbformat": 4,
 "nbformat_minor": 0
}
