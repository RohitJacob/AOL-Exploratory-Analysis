{
 "cells": [
  {
   "cell_type": "code",
   "execution_count": 27,
   "metadata": {
    "collapsed": true
   },
   "outputs": [],
   "source": [
    "import pandas as pd\n",
    "import numpy as np\n",
    "import collections\n",
    "import re\n",
    "import operator #\n",
    "import matplotlib.pyplot as plt\n",
    "from itertools import islice\n",
    "%matplotlib inline"
   ]
  },
  {
   "cell_type": "code",
   "execution_count": 28,
   "metadata": {
    "collapsed": false
   },
   "outputs": [
    {
     "data": {
      "text/plain": [
       "(3614506, 5)"
      ]
     },
     "execution_count": 28,
     "metadata": {},
     "output_type": "execute_result"
    }
   ],
   "source": [
    "#Load the dataset\n",
    "data = pd.read_csv(\"/Users/Rohit/Desktop/Data/test.txt\", sep=\"\\t\")\n",
    "data.shape"
   ]
  },
  {
   "cell_type": "code",
   "execution_count": 29,
   "metadata": {
    "collapsed": false
   },
   "outputs": [
    {
     "data": {
      "text/html": [
       "<div>\n",
       "<table border=\"1\" class=\"dataframe\">\n",
       "  <thead>\n",
       "    <tr style=\"text-align: right;\">\n",
       "      <th></th>\n",
       "      <th>AnonID</th>\n",
       "      <th>Query</th>\n",
       "      <th>QueryTime</th>\n",
       "      <th>ItemRank</th>\n",
       "      <th>ClickURL</th>\n",
       "    </tr>\n",
       "  </thead>\n",
       "  <tbody>\n",
       "    <tr>\n",
       "      <th>0</th>\n",
       "      <td>479</td>\n",
       "      <td>family guy</td>\n",
       "      <td>2006-03-01 16:01:20</td>\n",
       "      <td>NaN</td>\n",
       "      <td>NaN</td>\n",
       "    </tr>\n",
       "    <tr>\n",
       "      <th>1</th>\n",
       "      <td>479</td>\n",
       "      <td>also sprach zarathustra</td>\n",
       "      <td>2006-03-02 14:48:55</td>\n",
       "      <td>NaN</td>\n",
       "      <td>NaN</td>\n",
       "    </tr>\n",
       "    <tr>\n",
       "      <th>2</th>\n",
       "      <td>479</td>\n",
       "      <td>family guy movie references</td>\n",
       "      <td>2006-03-03 22:37:46</td>\n",
       "      <td>1.0</td>\n",
       "      <td>http://www.familyguyfiles.com</td>\n",
       "    </tr>\n",
       "    <tr>\n",
       "      <th>3</th>\n",
       "      <td>479</td>\n",
       "      <td>top grossing movies of all time</td>\n",
       "      <td>2006-03-03 22:42:42</td>\n",
       "      <td>1.0</td>\n",
       "      <td>http://movieweb.com</td>\n",
       "    </tr>\n",
       "    <tr>\n",
       "      <th>4</th>\n",
       "      <td>479</td>\n",
       "      <td>top grossing movies of all time</td>\n",
       "      <td>2006-03-03 22:42:42</td>\n",
       "      <td>2.0</td>\n",
       "      <td>http://www.imdb.com</td>\n",
       "    </tr>\n",
       "  </tbody>\n",
       "</table>\n",
       "</div>"
      ],
      "text/plain": [
       "   AnonID                            Query            QueryTime  ItemRank  \\\n",
       "0     479                       family guy  2006-03-01 16:01:20       NaN   \n",
       "1     479          also sprach zarathustra  2006-03-02 14:48:55       NaN   \n",
       "2     479      family guy movie references  2006-03-03 22:37:46       1.0   \n",
       "3     479  top grossing movies of all time  2006-03-03 22:42:42       1.0   \n",
       "4     479  top grossing movies of all time  2006-03-03 22:42:42       2.0   \n",
       "\n",
       "                        ClickURL  \n",
       "0                            NaN  \n",
       "1                            NaN  \n",
       "2  http://www.familyguyfiles.com  \n",
       "3            http://movieweb.com  \n",
       "4            http://www.imdb.com  "
      ]
     },
     "execution_count": 29,
     "metadata": {},
     "output_type": "execute_result"
    }
   ],
   "source": [
    "data[data.AnonID==479].head()"
   ]
  },
  {
   "cell_type": "code",
   "execution_count": 72,
   "metadata": {
    "collapsed": false
   },
   "outputs": [
    {
     "data": {
      "text/plain": [
       "66000"
      ]
     },
     "execution_count": 72,
     "metadata": {},
     "output_type": "execute_result"
    }
   ],
   "source": [
    "userlist = data.AnonID.unique()\n",
    "len(userlist) #No of unique users"
   ]
  },
  {
   "cell_type": "code",
   "execution_count": 88,
   "metadata": {
    "collapsed": false
   },
   "outputs": [],
   "source": [
    "def numRanks(df):\n",
    "    x =df[df.ItemRank<=2.0].ItemRank.count()/df.Query.count() \n",
    "    return x"
   ]
  },
  {
   "cell_type": "code",
   "execution_count": 89,
   "metadata": {
    "collapsed": false
   },
   "outputs": [
    {
     "data": {
      "text/plain": [
       "0.4065040650406504"
      ]
     },
     "execution_count": 89,
     "metadata": {},
     "output_type": "execute_result"
    }
   ],
   "source": [
    "numRanks(userDict[479])"
   ]
  },
  {
   "cell_type": "code",
   "execution_count": 80,
   "metadata": {
    "collapsed": false
   },
   "outputs": [],
   "source": [
    "userDict= {}\n",
    "for user in userlist:\n",
    "    userDict[user]= data[data.AnonID==user]"
   ]
  },
  {
   "cell_type": "code",
   "execution_count": 102,
   "metadata": {
    "collapsed": false
   },
   "outputs": [],
   "source": [
    "userUsage={}\n",
    "singleUser=0\n",
    "for user in userDict.keys():\n",
    "    if numRanks(userDict[user])>0.8:\n",
    "        if userDict[user].shape[0]==1:\n",
    "            singleUser= singleUser+1\n",
    "        userUsage[user]=numRanks(userDict[user])"
   ]
  },
  {
   "cell_type": "code",
   "execution_count": 98,
   "metadata": {
    "collapsed": false
   },
   "outputs": [
    {
     "data": {
      "text/plain": [
       "2136"
      ]
     },
     "execution_count": 98,
     "metadata": {},
     "output_type": "execute_result"
    }
   ],
   "source": [
    "len(userUsage)"
   ]
  },
  {
   "cell_type": "code",
   "execution_count": 116,
   "metadata": {
    "collapsed": false
   },
   "outputs": [
    {
     "data": {
      "image/png": "[encoded data removed]",
      "text/plain": [
       "<matplotlib.figure.Figure at 0x13a6e41d0>"
      ]
     },
     "metadata": {},
     "output_type": "display_data"
    },
    {
     "data": {
      "image/png": "[encoded data removed]",
      "text/plain": [
       "<matplotlib.figure.Figure at 0x13a7434e0>"
      ]
     },
     "metadata": {},
     "output_type": "display_data"
    }
   ],
   "source": [
    "plt.figure()\n",
    "values1 = [data.shape[0],len(userUsage)] \n",
    "labels1 = ['All Users', 'Targetable Audience(Promotion Opportunities)'] \n",
    "colors1 = ['lightskyblue', 'lightcoral'] \n",
    "\n",
    "plt.pie(values1, labels=labels1, autopct='%.2f', colors=colors1)\n",
    "plt.show()\n",
    "values2 = [len(userUsage), singleUser] \n",
    "labels2 = ['Targetable Audience', 'First time Users (Retention Promotion)'] \n",
    "colors2= ['yellowgreen', 'mediumpurple']\n",
    "explode1 = (0, 0.1)\n",
    "plt.pie(values2, labels=labels2, autopct='%.2f', explode=explode1, colors=colors1)\n",
    "plt.show()"
   ]
  },
  {
   "cell_type": "code",
   "execution_count": 103,
   "metadata": {
    "collapsed": false
   },
   "outputs": [
    {
     "data": {
      "text/plain": [
       "1162"
      ]
     },
     "execution_count": 103,
     "metadata": {},
     "output_type": "execute_result"
    }
   ],
   "source": []
  },
  {
   "cell_type": "code",
   "execution_count": null,
   "metadata": {
    "collapsed": true
   },
   "outputs": [],
   "source": []
  }
 ],
 "metadata": {
  "kernelspec": {
   "display_name": "Python 3",
   "language": "python",
   "name": "python3"
  },
  "language_info": {
   "codemirror_mode": {
    "name": "ipython",
    "version": 3
   },
   "file_extension": ".py",
   "mimetype": "text/x-python",
   "name": "python",
   "nbconvert_exporter": "python",
   "pygments_lexer": "ipython3",
   "version": "3.5.1"
  }
 },
 "nbformat": 4,
 "nbformat_minor": 0
}
