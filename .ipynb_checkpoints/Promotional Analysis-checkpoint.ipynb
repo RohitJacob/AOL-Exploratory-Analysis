{
 "cells": [
  {
   "cell_type": "code",
   "execution_count": 77,
   "metadata": {
    "collapsed": false
   },
   "outputs": [],
   "source": [
    "import pandas as pd\n",
    "import numpy as np\n",
    "import collections\n",
    "import re\n",
    "import operator #\n",
    "import matplotlib.pyplot as plt\n",
    "from itertools import islice\n",
    "from dateutil.parser import parse\n",
    "import datetime\n",
    "%matplotlib inline"
   ]
  },
  {
   "cell_type": "code",
   "execution_count": 3,
   "metadata": {
    "collapsed": false
   },
   "outputs": [
    {
     "data": {
      "text/plain": [
       "(3614506, 5)"
      ]
     },
     "execution_count": 3,
     "metadata": {},
     "output_type": "execute_result"
    }
   ],
   "source": [
    "#Load the dataset\n",
    "data = pd.read_csv(\"/Users/Rohit/Desktop/Data/test.txt\", sep=\"\\t\")\n",
    "data.shape"
   ]
  },
  {
   "cell_type": "code",
   "execution_count": 4,
   "metadata": {
    "collapsed": false
   },
   "outputs": [
    {
     "data": {
      "text/html": [
       "<div>\n",
       "<table border=\"1\" class=\"dataframe\">\n",
       "  <thead>\n",
       "    <tr style=\"text-align: right;\">\n",
       "      <th></th>\n",
       "      <th>AnonID</th>\n",
       "      <th>Query</th>\n",
       "      <th>QueryTime</th>\n",
       "      <th>ItemRank</th>\n",
       "      <th>ClickURL</th>\n",
       "    </tr>\n",
       "  </thead>\n",
       "  <tbody>\n",
       "    <tr>\n",
       "      <th>0</th>\n",
       "      <td>479</td>\n",
       "      <td>family guy</td>\n",
       "      <td>2006-03-01 16:01:20</td>\n",
       "      <td>NaN</td>\n",
       "      <td>NaN</td>\n",
       "    </tr>\n",
       "    <tr>\n",
       "      <th>1</th>\n",
       "      <td>479</td>\n",
       "      <td>also sprach zarathustra</td>\n",
       "      <td>2006-03-02 14:48:55</td>\n",
       "      <td>NaN</td>\n",
       "      <td>NaN</td>\n",
       "    </tr>\n",
       "    <tr>\n",
       "      <th>2</th>\n",
       "      <td>479</td>\n",
       "      <td>family guy movie references</td>\n",
       "      <td>2006-03-03 22:37:46</td>\n",
       "      <td>1.0</td>\n",
       "      <td>http://www.familyguyfiles.com</td>\n",
       "    </tr>\n",
       "    <tr>\n",
       "      <th>3</th>\n",
       "      <td>479</td>\n",
       "      <td>top grossing movies of all time</td>\n",
       "      <td>2006-03-03 22:42:42</td>\n",
       "      <td>1.0</td>\n",
       "      <td>http://movieweb.com</td>\n",
       "    </tr>\n",
       "    <tr>\n",
       "      <th>4</th>\n",
       "      <td>479</td>\n",
       "      <td>top grossing movies of all time</td>\n",
       "      <td>2006-03-03 22:42:42</td>\n",
       "      <td>2.0</td>\n",
       "      <td>http://www.imdb.com</td>\n",
       "    </tr>\n",
       "  </tbody>\n",
       "</table>\n",
       "</div>"
      ],
      "text/plain": [
       "   AnonID                            Query            QueryTime  ItemRank  \\\n",
       "0     479                       family guy  2006-03-01 16:01:20       NaN   \n",
       "1     479          also sprach zarathustra  2006-03-02 14:48:55       NaN   \n",
       "2     479      family guy movie references  2006-03-03 22:37:46       1.0   \n",
       "3     479  top grossing movies of all time  2006-03-03 22:42:42       1.0   \n",
       "4     479  top grossing movies of all time  2006-03-03 22:42:42       2.0   \n",
       "\n",
       "                        ClickURL  \n",
       "0                            NaN  \n",
       "1                            NaN  \n",
       "2  http://www.familyguyfiles.com  \n",
       "3            http://movieweb.com  \n",
       "4            http://www.imdb.com  "
      ]
     },
     "execution_count": 4,
     "metadata": {},
     "output_type": "execute_result"
    }
   ],
   "source": [
    "data[data.AnonID==479].head()"
   ]
  },
  {
   "cell_type": "code",
   "execution_count": 5,
   "metadata": {
    "collapsed": false
   },
   "outputs": [
    {
     "data": {
      "text/plain": [
       "66000"
      ]
     },
     "execution_count": 5,
     "metadata": {},
     "output_type": "execute_result"
    }
   ],
   "source": [
    "userlist = data.AnonID.unique()\n",
    "len(userlist) #No of unique users"
   ]
  },
  {
   "cell_type": "code",
   "execution_count": 6,
   "metadata": {
    "collapsed": false
   },
   "outputs": [
    {
     "data": {
      "text/plain": [
       "1244496"
      ]
     },
     "execution_count": 6,
     "metadata": {},
     "output_type": "execute_result"
    }
   ],
   "source": [
    "querylist = data.Query.unique()\n",
    "len(querylist)\n",
    "\n",
    "# fig.savefig('asdf.png')"
   ]
  },
  {
   "cell_type": "code",
   "execution_count": 7,
   "metadata": {
    "collapsed": false,
    "scrolled": true
   },
   "outputs": [
    {
     "data": {
      "text/html": [
       "<div>\n",
       "<table border=\"1\" class=\"dataframe\">\n",
       "  <thead>\n",
       "    <tr style=\"text-align: right;\">\n",
       "      <th></th>\n",
       "      <th>Count</th>\n",
       "      <th>Query</th>\n",
       "    </tr>\n",
       "  </thead>\n",
       "  <tbody>\n",
       "    <tr>\n",
       "      <th>0</th>\n",
       "      <td>98554</td>\n",
       "      <td>-</td>\n",
       "    </tr>\n",
       "    <tr>\n",
       "      <th>1</th>\n",
       "      <td>32396</td>\n",
       "      <td>google</td>\n",
       "    </tr>\n",
       "    <tr>\n",
       "      <th>2</th>\n",
       "      <td>13344</td>\n",
       "      <td>yahoo</td>\n",
       "    </tr>\n",
       "    <tr>\n",
       "      <th>3</th>\n",
       "      <td>12949</td>\n",
       "      <td>ebay</td>\n",
       "    </tr>\n",
       "    <tr>\n",
       "      <th>4</th>\n",
       "      <td>8733</td>\n",
       "      <td>yahoo.com</td>\n",
       "    </tr>\n",
       "    <tr>\n",
       "      <th>5</th>\n",
       "      <td>8680</td>\n",
       "      <td>mapquest</td>\n",
       "    </tr>\n",
       "    <tr>\n",
       "      <th>6</th>\n",
       "      <td>8139</td>\n",
       "      <td>google.com</td>\n",
       "    </tr>\n",
       "    <tr>\n",
       "      <th>7</th>\n",
       "      <td>7653</td>\n",
       "      <td>myspace</td>\n",
       "    </tr>\n",
       "    <tr>\n",
       "      <th>8</th>\n",
       "      <td>7099</td>\n",
       "      <td>myspace.com</td>\n",
       "    </tr>\n",
       "    <tr>\n",
       "      <th>9</th>\n",
       "      <td>4255</td>\n",
       "      <td>www.google.com</td>\n",
       "    </tr>\n",
       "    <tr>\n",
       "      <th>10</th>\n",
       "      <td>4196</td>\n",
       "      <td>www.yahoo.com</td>\n",
       "    </tr>\n",
       "    <tr>\n",
       "      <th>11</th>\n",
       "      <td>3854</td>\n",
       "      <td>internet</td>\n",
       "    </tr>\n",
       "    <tr>\n",
       "      <th>12</th>\n",
       "      <td>3117</td>\n",
       "      <td>http</td>\n",
       "    </tr>\n",
       "    <tr>\n",
       "      <th>13</th>\n",
       "      <td>2884</td>\n",
       "      <td>weather</td>\n",
       "    </tr>\n",
       "    <tr>\n",
       "      <th>14</th>\n",
       "      <td>2772</td>\n",
       "      <td>ebay.com</td>\n",
       "    </tr>\n",
       "    <tr>\n",
       "      <th>15</th>\n",
       "      <td>2695</td>\n",
       "      <td>map quest</td>\n",
       "    </tr>\n",
       "    <tr>\n",
       "      <th>16</th>\n",
       "      <td>2545</td>\n",
       "      <td>my space</td>\n",
       "    </tr>\n",
       "    <tr>\n",
       "      <th>17</th>\n",
       "      <td>2474</td>\n",
       "      <td>pogo</td>\n",
       "    </tr>\n",
       "    <tr>\n",
       "      <th>18</th>\n",
       "      <td>2429</td>\n",
       "      <td>american idol</td>\n",
       "    </tr>\n",
       "    <tr>\n",
       "      <th>19</th>\n",
       "      <td>2416</td>\n",
       "      <td>www.myspace.com</td>\n",
       "    </tr>\n",
       "    <tr>\n",
       "      <th>20</th>\n",
       "      <td>2228</td>\n",
       "      <td>ask jeeves</td>\n",
       "    </tr>\n",
       "    <tr>\n",
       "      <th>21</th>\n",
       "      <td>2129</td>\n",
       "      <td>bank of america</td>\n",
       "    </tr>\n",
       "    <tr>\n",
       "      <th>22</th>\n",
       "      <td>1924</td>\n",
       "      <td>hotmail.com</td>\n",
       "    </tr>\n",
       "    <tr>\n",
       "      <th>23</th>\n",
       "      <td>1887</td>\n",
       "      <td>msn</td>\n",
       "    </tr>\n",
       "    <tr>\n",
       "      <th>24</th>\n",
       "      <td>1838</td>\n",
       "      <td>mycl.cravelyrics.com</td>\n",
       "    </tr>\n",
       "    <tr>\n",
       "      <th>25</th>\n",
       "      <td>1793</td>\n",
       "      <td>dictionary</td>\n",
       "    </tr>\n",
       "    <tr>\n",
       "      <th>26</th>\n",
       "      <td>1705</td>\n",
       "      <td>hotmail</td>\n",
       "    </tr>\n",
       "    <tr>\n",
       "      <th>27</th>\n",
       "      <td>1618</td>\n",
       "      <td>msn.com</td>\n",
       "    </tr>\n",
       "    <tr>\n",
       "      <th>28</th>\n",
       "      <td>1544</td>\n",
       "      <td>mapquest.com</td>\n",
       "    </tr>\n",
       "    <tr>\n",
       "      <th>29</th>\n",
       "      <td>1541</td>\n",
       "      <td>craigslist</td>\n",
       "    </tr>\n",
       "    <tr>\n",
       "      <th>...</th>\n",
       "      <td>...</td>\n",
       "      <td>...</td>\n",
       "    </tr>\n",
       "    <tr>\n",
       "      <th>1244466</th>\n",
       "      <td>1</td>\n",
       "      <td>the fairmont chicago</td>\n",
       "    </tr>\n",
       "    <tr>\n",
       "      <th>1244467</th>\n",
       "      <td>1</td>\n",
       "      <td>www.harransbus.com</td>\n",
       "    </tr>\n",
       "    <tr>\n",
       "      <th>1244468</th>\n",
       "      <td>1</td>\n",
       "      <td>www.winterolympics.htm</td>\n",
       "    </tr>\n",
       "    <tr>\n",
       "      <th>1244469</th>\n",
       "      <td>1</td>\n",
       "      <td>ww.baynewa9</td>\n",
       "    </tr>\n",
       "    <tr>\n",
       "      <th>1244470</th>\n",
       "      <td>1</td>\n",
       "      <td>free downloaded games</td>\n",
       "    </tr>\n",
       "    <tr>\n",
       "      <th>1244471</th>\n",
       "      <td>1</td>\n",
       "      <td>thatvideo.com</td>\n",
       "    </tr>\n",
       "    <tr>\n",
       "      <th>1244472</th>\n",
       "      <td>1</td>\n",
       "      <td>pay scale for social workers</td>\n",
       "    </tr>\n",
       "    <tr>\n",
       "      <th>1244473</th>\n",
       "      <td>1</td>\n",
       "      <td>www.aol-bonfire</td>\n",
       "    </tr>\n",
       "    <tr>\n",
       "      <th>1244474</th>\n",
       "      <td>1</td>\n",
       "      <td>wellpump</td>\n",
       "    </tr>\n",
       "    <tr>\n",
       "      <th>1244475</th>\n",
       "      <td>1</td>\n",
       "      <td>websers dictionary</td>\n",
       "    </tr>\n",
       "    <tr>\n",
       "      <th>1244476</th>\n",
       "      <td>1</td>\n",
       "      <td>ebayjangofettslave1</td>\n",
       "    </tr>\n",
       "    <tr>\n",
       "      <th>1244477</th>\n",
       "      <td>1</td>\n",
       "      <td>www.zillowcom</td>\n",
       "    </tr>\n",
       "    <tr>\n",
       "      <th>1244478</th>\n",
       "      <td>1</td>\n",
       "      <td>basic cooking classes in mchenry il</td>\n",
       "    </tr>\n",
       "    <tr>\n",
       "      <th>1244479</th>\n",
       "      <td>1</td>\n",
       "      <td>www.rashrock.3rror.com</td>\n",
       "    </tr>\n",
       "    <tr>\n",
       "      <th>1244480</th>\n",
       "      <td>1</td>\n",
       "      <td>www.scriptorum.org</td>\n",
       "    </tr>\n",
       "    <tr>\n",
       "      <th>1244481</th>\n",
       "      <td>1</td>\n",
       "      <td>how can cultural diversity detract from high-p...</td>\n",
       "    </tr>\n",
       "    <tr>\n",
       "      <th>1244482</th>\n",
       "      <td>1</td>\n",
       "      <td>leefelterman</td>\n",
       "    </tr>\n",
       "    <tr>\n",
       "      <th>1244483</th>\n",
       "      <td>1</td>\n",
       "      <td>cheap flight.com</td>\n",
       "    </tr>\n",
       "    <tr>\n",
       "      <th>1244484</th>\n",
       "      <td>1</td>\n",
       "      <td>olivia in the nude</td>\n",
       "    </tr>\n",
       "    <tr>\n",
       "      <th>1244485</th>\n",
       "      <td>1</td>\n",
       "      <td>www.laloopp.com</td>\n",
       "    </tr>\n",
       "    <tr>\n",
       "      <th>1244486</th>\n",
       "      <td>1</td>\n",
       "      <td>2006 sec basketball bracket</td>\n",
       "    </tr>\n",
       "    <tr>\n",
       "      <th>1244487</th>\n",
       "      <td>1</td>\n",
       "      <td>rental locator</td>\n",
       "    </tr>\n",
       "    <tr>\n",
       "      <th>1244488</th>\n",
       "      <td>1</td>\n",
       "      <td>case high school students</td>\n",
       "    </tr>\n",
       "    <tr>\n",
       "      <th>1244489</th>\n",
       "      <td>1</td>\n",
       "      <td>wwwplanetech. com</td>\n",
       "    </tr>\n",
       "    <tr>\n",
       "      <th>1244490</th>\n",
       "      <td>1</td>\n",
       "      <td>chaise lounge cushions</td>\n",
       "    </tr>\n",
       "    <tr>\n",
       "      <th>1244491</th>\n",
       "      <td>1</td>\n",
       "      <td>houseofkicksonline.com</td>\n",
       "    </tr>\n",
       "    <tr>\n",
       "      <th>1244492</th>\n",
       "      <td>1</td>\n",
       "      <td>www.credit connection.com</td>\n",
       "    </tr>\n",
       "    <tr>\n",
       "      <th>1244493</th>\n",
       "      <td>1</td>\n",
       "      <td>salsandsoulfitness</td>\n",
       "    </tr>\n",
       "    <tr>\n",
       "      <th>1244494</th>\n",
       "      <td>1</td>\n",
       "      <td>electric hot water heater</td>\n",
       "    </tr>\n",
       "    <tr>\n",
       "      <th>1244495</th>\n",
       "      <td>1</td>\n",
       "      <td>milwaukee www.irem.wi.comom</td>\n",
       "    </tr>\n",
       "  </tbody>\n",
       "</table>\n",
       "<p>1244496 rows × 2 columns</p>\n",
       "</div>"
      ],
      "text/plain": [
       "         Count                                              Query\n",
       "0        98554                                                  -\n",
       "1        32396                                             google\n",
       "2        13344                                              yahoo\n",
       "3        12949                                               ebay\n",
       "4         8733                                          yahoo.com\n",
       "5         8680                                           mapquest\n",
       "6         8139                                         google.com\n",
       "7         7653                                            myspace\n",
       "8         7099                                        myspace.com\n",
       "9         4255                                     www.google.com\n",
       "10        4196                                      www.yahoo.com\n",
       "11        3854                                           internet\n",
       "12        3117                                               http\n",
       "13        2884                                            weather\n",
       "14        2772                                           ebay.com\n",
       "15        2695                                          map quest\n",
       "16        2545                                           my space\n",
       "17        2474                                               pogo\n",
       "18        2429                                      american idol\n",
       "19        2416                                    www.myspace.com\n",
       "20        2228                                         ask jeeves\n",
       "21        2129                                    bank of america\n",
       "22        1924                                        hotmail.com\n",
       "23        1887                                                msn\n",
       "24        1838                               mycl.cravelyrics.com\n",
       "25        1793                                         dictionary\n",
       "26        1705                                            hotmail\n",
       "27        1618                                            msn.com\n",
       "28        1544                                       mapquest.com\n",
       "29        1541                                         craigslist\n",
       "...        ...                                                ...\n",
       "1244466      1                               the fairmont chicago\n",
       "1244467      1                                 www.harransbus.com\n",
       "1244468      1                             www.winterolympics.htm\n",
       "1244469      1                                        ww.baynewa9\n",
       "1244470      1                              free downloaded games\n",
       "1244471      1                                      thatvideo.com\n",
       "1244472      1                       pay scale for social workers\n",
       "1244473      1                                    www.aol-bonfire\n",
       "1244474      1                                           wellpump\n",
       "1244475      1                                 websers dictionary\n",
       "1244476      1                                ebayjangofettslave1\n",
       "1244477      1                                      www.zillowcom\n",
       "1244478      1                basic cooking classes in mchenry il\n",
       "1244479      1                             www.rashrock.3rror.com\n",
       "1244480      1                                 www.scriptorum.org\n",
       "1244481      1  how can cultural diversity detract from high-p...\n",
       "1244482      1                                       leefelterman\n",
       "1244483      1                                   cheap flight.com\n",
       "1244484      1                                 olivia in the nude\n",
       "1244485      1                                    www.laloopp.com\n",
       "1244486      1                        2006 sec basketball bracket\n",
       "1244487      1                                     rental locator\n",
       "1244488      1                          case high school students\n",
       "1244489      1                                  wwwplanetech. com\n",
       "1244490      1                             chaise lounge cushions\n",
       "1244491      1                             houseofkicksonline.com\n",
       "1244492      1                          www.credit connection.com\n",
       "1244493      1                                 salsandsoulfitness\n",
       "1244494      1                          electric hot water heater\n",
       "1244495      1                        milwaukee www.irem.wi.comom\n",
       "\n",
       "[1244496 rows x 2 columns]"
      ]
     },
     "execution_count": 7,
     "metadata": {},
     "output_type": "execute_result"
    }
   ],
   "source": [
    "queries = data.Query\n",
    "faq = pd.DataFrame({'Query': queries.value_counts().index, 'Count':queries.value_counts()})\n",
    "faq.index = range(faq.shape[0])\n",
    "faq"
   ]
  },
  {
   "cell_type": "code",
   "execution_count": 8,
   "metadata": {
    "collapsed": false
   },
   "outputs": [],
   "source": [
    "toomany = data[data.ItemRank >5.0]\n",
    "initial = data[data.ItemRank<=5.0]\n",
    "\n",
    "oftenAsked = set(initial.Query) & set(toomany.Query)\n",
    "stillTrying= toomany.loc[toomany['Query'].isin(oftenAsked)]"
   ]
  },
  {
   "cell_type": "code",
   "execution_count": 9,
   "metadata": {
    "collapsed": false
   },
   "outputs": [],
   "source": [
    "st = stillTrying.groupby(['Query'])['ItemRank'].max()\n",
    "mostAttempts = st.to_frame()\n",
    "mostAttempts['Queries'] = list(mostAttempts.index)"
   ]
  },
  {
   "cell_type": "code",
   "execution_count": 10,
   "metadata": {
    "collapsed": false
   },
   "outputs": [
    {
     "data": {
      "text/html": [
       "<div>\n",
       "<table border=\"1\" class=\"dataframe\">\n",
       "  <thead>\n",
       "    <tr style=\"text-align: right;\">\n",
       "      <th></th>\n",
       "      <th>ItemRank</th>\n",
       "      <th>Queries</th>\n",
       "    </tr>\n",
       "  </thead>\n",
       "  <tbody>\n",
       "    <tr>\n",
       "      <th>0</th>\n",
       "      <td>9.0</td>\n",
       "      <td>''smith sisters murdered anonymously'</td>\n",
       "    </tr>\n",
       "    <tr>\n",
       "      <th>1</th>\n",
       "      <td>6.0</td>\n",
       "      <td>'32 deuce coupe to buy</td>\n",
       "    </tr>\n",
       "    <tr>\n",
       "      <th>2</th>\n",
       "      <td>6.0</td>\n",
       "      <td>'ac dc adaptors'</td>\n",
       "    </tr>\n",
       "    <tr>\n",
       "      <th>3</th>\n",
       "      <td>8.0</td>\n",
       "      <td>'aiwa 230v tv vcr'</td>\n",
       "    </tr>\n",
       "    <tr>\n",
       "      <th>4</th>\n",
       "      <td>8.0</td>\n",
       "      <td>'bbq parts'</td>\n",
       "    </tr>\n",
       "  </tbody>\n",
       "</table>\n",
       "</div>"
      ],
      "text/plain": [
       "   ItemRank                                Queries\n",
       "0       9.0  ''smith sisters murdered anonymously'\n",
       "1       6.0                 '32 deuce coupe to buy\n",
       "2       6.0                       'ac dc adaptors'\n",
       "3       8.0                     'aiwa 230v tv vcr'\n",
       "4       8.0                            'bbq parts'"
      ]
     },
     "execution_count": 10,
     "metadata": {},
     "output_type": "execute_result"
    }
   ],
   "source": [
    "mostAttempts = mostAttempts.reset_index(drop=True)\n",
    "mostAttempts.head()"
   ]
  },
  {
   "cell_type": "code",
   "execution_count": 79,
   "metadata": {
    "collapsed": true
   },
   "outputs": [],
   "source": [
    "def timeOfDay(date):\n",
    "    #dt = parse(date)\n",
    "    if date.hour < 12:\n",
    "        return \"1Morning\"\n",
    "    if date.hour>= 12 and date.hour <= 15:\n",
    "        return \"2Afternoon\"\n",
    "    if date.hour> 15 and date.hour < 21:\n",
    "        return \"3Evening\"\n",
    "    else:\n",
    "        return \"4Night\""
   ]
  },
  {
   "cell_type": "code",
   "execution_count": 80,
   "metadata": {
    "collapsed": false
   },
   "outputs": [
    {
     "name": "stderr",
     "output_type": "stream",
     "text": [
      "//anaconda/lib/python3.5/site-packages/ipykernel/__main__.py:3: SettingWithCopyWarning: \n",
      "A value is trying to be set on a copy of a slice from a DataFrame.\n",
      "Try using .loc[row_indexer,col_indexer] = value instead\n",
      "\n",
      "See the caveats in the documentation: http://pandas.pydata.org/pandas-docs/stable/indexing.html#indexing-view-versus-copy\n",
      "  app.launch_new_instance()\n",
      "//anaconda/lib/python3.5/site-packages/ipykernel/__main__.py:4: SettingWithCopyWarning: \n",
      "A value is trying to be set on a copy of a slice from a DataFrame.\n",
      "Try using .loc[row_indexer,col_indexer] = value instead\n",
      "\n",
      "See the caveats in the documentation: http://pandas.pydata.org/pandas-docs/stable/indexing.html#indexing-view-versus-copy\n"
     ]
    }
   ],
   "source": [
    "timedf = data[[\"AnonID\", \"QueryTime\"]]\n",
    "timedf.head()\n",
    "timedf['QueryDate'] = pd.to_datetime(timedf['QueryTime']).apply(lambda x: x.date())\n",
    "timedf['QueryTimeStamp'] = pd.to_datetime(timedf['QueryTime']).apply(lambda x: x.time())\n",
    "timedf['TOD'] = timedf['QueryTimeStamp'].apply(lambda x: timeOfDay(x))"
   ]
  },
  {
   "cell_type": "code",
   "execution_count": 81,
   "metadata": {
    "collapsed": false
   },
   "outputs": [],
   "source": [
    "timedf.head()\n",
    "durationmax = timedf.groupby(['AnonID'])['QueryTimeStamp'].max()\n",
    "durationmin = timedf.groupby(['AnonID'])['QueryTimeStamp'].min()"
   ]
  },
  {
   "cell_type": "code",
   "execution_count": 82,
   "metadata": {
    "collapsed": false
   },
   "outputs": [
    {
     "data": {
      "text/plain": [
       "<matplotlib.axes._subplots.AxesSubplot at 0x1057fb940>"
      ]
     },
     "execution_count": 82,
     "metadata": {},
     "output_type": "execute_result"
    },
    {
     "data": {
      "image/png": "[encoded data removed]",
      "text/plain": [
       "<matplotlib.figure.Figure at 0x1180c7b70>"
      ]
     },
     "metadata": {},
     "output_type": "display_data"
    }
   ],
   "source": [
    "timing = timedf.groupby(['TOD'])['AnonID'].count().to_frame()\n",
    "timing.plot()\n",
    "# import matplotlib.pyplot as plt; plt.rcdefaults()\n",
    " \n",
    "# objects = ('Python', 'C++', 'Java', 'Perl', 'Scala', 'Lisp')\n",
    "# y_pos = np.arange(len(objects))\n",
    "# performance = [10,8,6,4,2,1]\n",
    " \n",
    "# plt.bar(y_pos, performance, align='center', alpha=0.5)\n",
    "# plt.xticks(y_pos, objects)\n",
    "# plt.ylabel('Usage')\n",
    "# plt.title('Programming language usage')\n",
    " \n",
    "# plt.show()"
   ]
  },
  {
   "cell_type": "code",
   "execution_count": 102,
   "metadata": {
    "collapsed": true
   },
   "outputs": [],
   "source": [
    "from datetime import datetime, date\n",
    "def time2date(x):\n",
    "    return datetime.combine(date.today(), x) "
   ]
  },
  {
   "cell_type": "code",
   "execution_count": 109,
   "metadata": {
    "collapsed": false
   },
   "outputs": [
    {
     "data": {
      "text/plain": [
       "count                     66000\n",
       "mean     0 days 12:10:13.667636\n",
       "std      0 days 08:22:37.873122\n",
       "min             0 days 00:00:00\n",
       "25%             0 days 04:41:26\n",
       "50%      0 days 12:15:41.500000\n",
       "75%      0 days 21:03:37.250000\n",
       "max             0 days 23:59:59\n",
       "Name: TimeSpent, dtype: object"
      ]
     },
     "execution_count": 109,
     "metadata": {},
     "output_type": "execute_result"
    }
   ],
   "source": [
    "dmax = durationmax.to_frame()\n",
    "dmin = durationmin.to_frame()\n",
    "dmin['AnonID'] = list(dmin.index)\n",
    "dmax['AnonID'] = list(dmax.index)\n",
    "dmin = dmin.reset_index(drop=True)\n",
    "dmax = dmax.reset_index(drop=True)\n",
    "duration = pd.merge(dmax, dmin, on='AnonID', how='inner')\n",
    "duration = duration.rename(columns={'QueryTimeStamp_x': 'MaxTime', 'QueryTimeStamp_y': 'MinTime'})\n",
    "dulist = duration['MaxTime'].apply(time2date) - duration['MinTime'].apply(time2date)\n",
    "duration['TimeSpent'] = dulist\n",
    "duration = duration[['AnonID','TimeSpent']]\n",
    "duration.TimeSpent.describe()"
   ]
  },
  {
   "cell_type": "code",
   "execution_count": null,
   "metadata": {
    "collapsed": false
   },
   "outputs": [],
   "source": []
  },
  {
   "cell_type": "code",
   "execution_count": 88,
   "metadata": {
    "collapsed": false
   },
   "outputs": [],
   "source": [
    "#Satisfaction Levels\n",
    "def numRanks(df):\n",
    "    x =df[df.ItemRank<=2.0].ItemRank.count()/df.Query.count() \n",
    "    return x"
   ]
  },
  {
   "cell_type": "code",
   "execution_count": 89,
   "metadata": {
    "collapsed": false
   },
   "outputs": [
    {
     "data": {
      "text/plain": [
       "0.4065040650406504"
      ]
     },
     "execution_count": 89,
     "metadata": {},
     "output_type": "execute_result"
    }
   ],
   "source": [
    "numRanks(userDict[479])"
   ]
  },
  {
   "cell_type": "code",
   "execution_count": 80,
   "metadata": {
    "collapsed": false
   },
   "outputs": [],
   "source": [
    "userDict= {}\n",
    "for user in userlist:\n",
    "    userDict[user]= data[data.AnonID==user]"
   ]
  },
  {
   "cell_type": "code",
   "execution_count": 102,
   "metadata": {
    "collapsed": false
   },
   "outputs": [],
   "source": [
    "userUsage={}\n",
    "singleUser=0\n",
    "for user in userDict.keys():\n",
    "    if numRanks(userDict[user])>0.8:\n",
    "        if userDict[user].shape[0]==1:\n",
    "            singleUser= singleUser+1\n",
    "        userUsage[user]=numRanks(userDict[user])"
   ]
  },
  {
   "cell_type": "code",
   "execution_count": 98,
   "metadata": {
    "collapsed": false
   },
   "outputs": [
    {
     "data": {
      "text/plain": [
       "2136"
      ]
     },
     "execution_count": 98,
     "metadata": {},
     "output_type": "execute_result"
    }
   ],
   "source": [
    "len(userUsage)"
   ]
  },
  {
   "cell_type": "code",
   "execution_count": 177,
   "metadata": {
    "collapsed": false
   },
   "outputs": [
    {
     "data": {
      "image/png": "[encoded data removed]",
      "text/plain": [
       "<matplotlib.figure.Figure at 0x147bb85c0>"
      ]
     },
     "metadata": {},
     "output_type": "display_data"
    }
   ],
   "source": [
    "cleandata = data.dropna()\n",
    "plt.figure()\n",
    "values1 = [data.shape[0]/data.shape[0],cleandata.shape[0]/data.shape[0]] \n",
    "labels1 = ['All Queries', 'NaN Queries'] \n",
    "colors1 = ['mediumpurple','lightskyblue'] \n",
    "plt.pie(values1, labels=labels1, autopct='%.2f', colors=colors1)\n",
    "plt.axis('equal')\n",
    "plt.savefig('NaNQueries.png')\n",
    "plt.show()"
   ]
  },
  {
   "cell_type": "code",
   "execution_count": 176,
   "metadata": {
    "collapsed": false
   },
   "outputs": [
    {
     "data": {
      "image/png": "[encoded data removed]",
      "text/plain": [
       "<matplotlib.figure.Figure at 0x1483fe668>"
      ]
     },
     "metadata": {},
     "output_type": "display_data"
    },
    {
     "data": {
      "image/png": "[encoded data removed]",
      "text/plain": [
       "<matplotlib.figure.Figure at 0x1420f4a58>"
      ]
     },
     "metadata": {},
     "output_type": "display_data"
    }
   ],
   "source": [
    "plt.figure()\n",
    "values1 = [(data.shape[0]/data.shape[0]),(len(userUsage)/data.shape[0])] \n",
    "labels1 = ['All Users', 'Targetable Audience(Promotion Opportunities)'] \n",
    "colors1 = ['lightskyblue', 'lightcoral'] \n",
    "plt.axis('equal')\n",
    "plt.pie(values1, labels=labels1, autopct='%.2f', colors=colors1)\n",
    "plt.savefig('TargetAudience.png')\n",
    "plt.show()\n",
    "values2 = [(len(userUsage)/len(userUsage)), (singleUser/len(userUsage))] \n",
    "labels2 = ['Targetable Audience', 'First time Users (Retention Promotion)'] \n",
    "colors2= ['yellowgreen', 'mediumpurple']\n",
    "plt.axis('equal')\n",
    "explode1 = (0, 0.1)\n",
    "plt.pie(values2, labels=labels2, autopct='%.2f', explode=explode1, colors=colors1)\n",
    "plt.savefig('RententionPlans.png')\n",
    "plt.show()"
   ]
  },
  {
   "cell_type": "code",
   "execution_count": 23,
   "metadata": {
    "collapsed": false
   },
   "outputs": [],
   "source": []
  },
  {
   "cell_type": "code",
   "execution_count": null,
   "metadata": {
    "collapsed": false
   },
   "outputs": [],
   "source": []
  },
  {
   "cell_type": "code",
   "execution_count": null,
   "metadata": {
    "collapsed": true
   },
   "outputs": [],
   "source": []
  }
 ],
 "metadata": {
  "kernelspec": {
   "display_name": "Python 3",
   "language": "python",
   "name": "python3"
  },
  "language_info": {
   "codemirror_mode": {
    "name": "ipython",
    "version": 3
   },
   "file_extension": ".py",
   "mimetype": "text/x-python",
   "name": "python",
   "nbconvert_exporter": "python",
   "pygments_lexer": "ipython3",
   "version": "3.5.1"
  }
 },
 "nbformat": 4,
 "nbformat_minor": 0
}
