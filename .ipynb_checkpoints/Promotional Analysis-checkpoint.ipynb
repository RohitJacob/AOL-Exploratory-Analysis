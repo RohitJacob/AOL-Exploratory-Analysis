{
 "cells": [
  {
   "cell_type": "code",
   "execution_count": 1,
   "metadata": {
    "collapsed": false
   },
   "outputs": [],
   "source": [
    "import pandas as pd\n",
    "import numpy as np\n",
    "import collections\n",
    "import re\n",
    "import operator #\n",
    "import matplotlib.pyplot as plt\n",
    "from itertools import islice\n",
    "from dateutil.parser import parse\n",
    "import datetime\n",
    "%matplotlib inline\n",
    "import warnings\n",
    "warnings.filterwarnings('ignore')"
   ]
  },
  {
   "cell_type": "code",
   "execution_count": 2,
   "metadata": {
    "collapsed": false
   },
   "outputs": [],
   "source": [
    "def URLcleaner(a):\n",
    "    if 'http://' in a:\n",
    "        a = a.replace('http://', '')\n",
    "    if len(a.split('.'))>2:\n",
    "        return a.split('.')[1].split('.')[0]\n",
    "    else:\n",
    "        return a.split('.')[0]"
   ]
  },
  {
   "cell_type": "code",
   "execution_count": 3,
   "metadata": {
    "collapsed": true
   },
   "outputs": [],
   "source": [
    "def timeOfDay(date):\n",
    "    #dt = parse(date)\n",
    "    if date.hour < 12:\n",
    "        return \"1Morning\"\n",
    "    if date.hour>= 12 and date.hour <= 15:\n",
    "        return \"2Afternoon\"\n",
    "    if date.hour> 15 and date.hour < 21:\n",
    "        return \"3Evening\"\n",
    "    else:\n",
    "        return \"4Night\""
   ]
  },
  {
   "cell_type": "code",
   "execution_count": 4,
   "metadata": {
    "collapsed": true
   },
   "outputs": [],
   "source": [
    "from datetime import datetime, date\n",
    "def time2date(x):\n",
    "    return datetime.combine(date.today(), x) "
   ]
  },
  {
   "cell_type": "code",
   "execution_count": 5,
   "metadata": {
    "collapsed": false
   },
   "outputs": [
    {
     "data": {
      "text/plain": [
       "(3614506, 5)"
      ]
     },
     "execution_count": 5,
     "metadata": {},
     "output_type": "execute_result"
    }
   ],
   "source": [
    "#Load the dataset\n",
    "data = pd.read_csv(\"/Users/Rohit/Desktop/Data/test.txt\", sep=\"\\t\")\n",
    "data.shape"
   ]
  },
  {
   "cell_type": "code",
   "execution_count": 6,
   "metadata": {
    "collapsed": false
   },
   "outputs": [
    {
     "data": {
      "text/plain": [
       "<matplotlib.axes._subplots.AxesSubplot at 0x139a61eb8>"
      ]
     },
     "execution_count": 6,
     "metadata": {},
     "output_type": "execute_result"
    },
    {
     "data": {
      "image/png": "[encoded data removed]",
      "text/plain": [
       "<matplotlib.figure.Figure at 0x139a616a0>"
      ]
     },
     "metadata": {},
     "output_type": "display_data"
    }
   ],
   "source": [
    "commonusers = data.groupby(['AnonID'])['Query'].count().to_frame()\n",
    "commonusers= commonusers.sort_values(by='Query', ascending=False)\n",
    "commonusers.head(20).plot(kind='bar', color='purple')"
   ]
  },
  {
   "cell_type": "code",
   "execution_count": 7,
   "metadata": {
    "collapsed": true
   },
   "outputs": [],
   "source": [
    "from difflib import SequenceMatcher\n",
    "\n",
    "def similar(a, b):\n",
    "    return round(SequenceMatcher(None, a, b).ratio(),2)"
   ]
  },
  {
   "cell_type": "code",
   "execution_count": 8,
   "metadata": {
    "collapsed": false
   },
   "outputs": [],
   "source": [
    "import enchant\n",
    "d = enchant.Dict(\"en_US\")\n",
    "\n",
    "def spellchk(i):\n",
    "    wsum = 0 \n",
    "    for word in i.split():\n",
    "        if d.check(word):\n",
    "            wsum = wsum +1\n",
    "    if wsum == len(i.split()):\n",
    "        return True\n",
    "    else:\n",
    "        return False"
   ]
  },
  {
   "cell_type": "code",
   "execution_count": 9,
   "metadata": {
    "collapsed": false
   },
   "outputs": [],
   "source": [
    "#data['QuerySpellCheck'] = data.Query.apply(lambda x: spellchk(x))"
   ]
  },
  {
   "cell_type": "code",
   "execution_count": 10,
   "metadata": {
    "collapsed": false
   },
   "outputs": [
    {
     "data": {
      "text/html": [
       "<div>\n",
       "<table border=\"1\" class=\"dataframe\">\n",
       "  <thead>\n",
       "    <tr style=\"text-align: right;\">\n",
       "      <th></th>\n",
       "      <th>AnonID</th>\n",
       "      <th>Query</th>\n",
       "      <th>QueryTime</th>\n",
       "      <th>ItemRank</th>\n",
       "      <th>ClickURL</th>\n",
       "    </tr>\n",
       "  </thead>\n",
       "  <tbody>\n",
       "    <tr>\n",
       "      <th>0</th>\n",
       "      <td>479</td>\n",
       "      <td>family guy</td>\n",
       "      <td>2006-03-01 16:01:20</td>\n",
       "      <td>NaN</td>\n",
       "      <td>NaN</td>\n",
       "    </tr>\n",
       "    <tr>\n",
       "      <th>1</th>\n",
       "      <td>479</td>\n",
       "      <td>also sprach zarathustra</td>\n",
       "      <td>2006-03-02 14:48:55</td>\n",
       "      <td>NaN</td>\n",
       "      <td>NaN</td>\n",
       "    </tr>\n",
       "    <tr>\n",
       "      <th>2</th>\n",
       "      <td>479</td>\n",
       "      <td>family guy movie references</td>\n",
       "      <td>2006-03-03 22:37:46</td>\n",
       "      <td>1.0</td>\n",
       "      <td>http://www.familyguyfiles.com</td>\n",
       "    </tr>\n",
       "    <tr>\n",
       "      <th>3</th>\n",
       "      <td>479</td>\n",
       "      <td>top grossing movies of all time</td>\n",
       "      <td>2006-03-03 22:42:42</td>\n",
       "      <td>1.0</td>\n",
       "      <td>http://movieweb.com</td>\n",
       "    </tr>\n",
       "    <tr>\n",
       "      <th>4</th>\n",
       "      <td>479</td>\n",
       "      <td>top grossing movies of all time</td>\n",
       "      <td>2006-03-03 22:42:42</td>\n",
       "      <td>2.0</td>\n",
       "      <td>http://www.imdb.com</td>\n",
       "    </tr>\n",
       "  </tbody>\n",
       "</table>\n",
       "</div>"
      ],
      "text/plain": [
       "   AnonID                            Query            QueryTime  ItemRank  \\\n",
       "0     479                       family guy  2006-03-01 16:01:20       NaN   \n",
       "1     479          also sprach zarathustra  2006-03-02 14:48:55       NaN   \n",
       "2     479      family guy movie references  2006-03-03 22:37:46       1.0   \n",
       "3     479  top grossing movies of all time  2006-03-03 22:42:42       1.0   \n",
       "4     479  top grossing movies of all time  2006-03-03 22:42:42       2.0   \n",
       "\n",
       "                        ClickURL  \n",
       "0                            NaN  \n",
       "1                            NaN  \n",
       "2  http://www.familyguyfiles.com  \n",
       "3            http://movieweb.com  \n",
       "4            http://www.imdb.com  "
      ]
     },
     "execution_count": 10,
     "metadata": {},
     "output_type": "execute_result"
    }
   ],
   "source": [
    "data[data.AnonID==479].head()"
   ]
  },
  {
   "cell_type": "code",
   "execution_count": 11,
   "metadata": {
    "collapsed": false
   },
   "outputs": [
    {
     "data": {
      "text/plain": [
       "66000"
      ]
     },
     "execution_count": 11,
     "metadata": {},
     "output_type": "execute_result"
    }
   ],
   "source": [
    "userlist = data.AnonID.unique()\n",
    "len(userlist) #No of unique users"
   ]
  },
  {
   "cell_type": "code",
   "execution_count": 12,
   "metadata": {
    "collapsed": false
   },
   "outputs": [
    {
     "data": {
      "text/plain": [
       "1244496"
      ]
     },
     "execution_count": 12,
     "metadata": {},
     "output_type": "execute_result"
    }
   ],
   "source": [
    "querylist = data.Query.unique()\n",
    "len(querylist)\n",
    "\n",
    "# fig.savefig('asdf.png')"
   ]
  },
  {
   "cell_type": "code",
   "execution_count": 13,
   "metadata": {
    "collapsed": false,
    "scrolled": true
   },
   "outputs": [
    {
     "data": {
      "text/html": [
       "<div>\n",
       "<table border=\"1\" class=\"dataframe\">\n",
       "  <thead>\n",
       "    <tr style=\"text-align: right;\">\n",
       "      <th></th>\n",
       "      <th>Count</th>\n",
       "      <th>Query</th>\n",
       "    </tr>\n",
       "  </thead>\n",
       "  <tbody>\n",
       "    <tr>\n",
       "      <th>0</th>\n",
       "      <td>98554</td>\n",
       "      <td>-</td>\n",
       "    </tr>\n",
       "    <tr>\n",
       "      <th>1</th>\n",
       "      <td>32396</td>\n",
       "      <td>google</td>\n",
       "    </tr>\n",
       "    <tr>\n",
       "      <th>2</th>\n",
       "      <td>13344</td>\n",
       "      <td>yahoo</td>\n",
       "    </tr>\n",
       "    <tr>\n",
       "      <th>3</th>\n",
       "      <td>12949</td>\n",
       "      <td>ebay</td>\n",
       "    </tr>\n",
       "    <tr>\n",
       "      <th>4</th>\n",
       "      <td>8733</td>\n",
       "      <td>yahoo.com</td>\n",
       "    </tr>\n",
       "  </tbody>\n",
       "</table>\n",
       "</div>"
      ],
      "text/plain": [
       "   Count      Query\n",
       "0  98554          -\n",
       "1  32396     google\n",
       "2  13344      yahoo\n",
       "3  12949       ebay\n",
       "4   8733  yahoo.com"
      ]
     },
     "execution_count": 13,
     "metadata": {},
     "output_type": "execute_result"
    }
   ],
   "source": [
    "queries = data.Query\n",
    "faq = pd.DataFrame({'Query': queries.value_counts().index, 'Count':queries.value_counts()})\n",
    "faq.index = range(faq.shape[0])\n",
    "faq.head()"
   ]
  },
  {
   "cell_type": "code",
   "execution_count": 14,
   "metadata": {
    "collapsed": false
   },
   "outputs": [],
   "source": [
    "toomany = data[data.ItemRank >5.0]\n",
    "initial = data[data.ItemRank<=5.0]\n",
    "\n",
    "oftenAsked = set(initial.Query) & set(toomany.Query)\n",
    "stillTrying= toomany.loc[toomany['Query'].isin(oftenAsked)]"
   ]
  },
  {
   "cell_type": "code",
   "execution_count": 15,
   "metadata": {
    "collapsed": false
   },
   "outputs": [],
   "source": [
    "st = stillTrying.groupby(['Query'])['ItemRank'].max()\n",
    "mostAttempts = st.to_frame()\n",
    "mostAttempts['Queries'] = list(mostAttempts.index)"
   ]
  },
  {
   "cell_type": "code",
   "execution_count": 16,
   "metadata": {
    "collapsed": false
   },
   "outputs": [
    {
     "data": {
      "text/html": [
       "<div>\n",
       "<table border=\"1\" class=\"dataframe\">\n",
       "  <thead>\n",
       "    <tr style=\"text-align: right;\">\n",
       "      <th></th>\n",
       "      <th>ItemRank</th>\n",
       "      <th>Queries</th>\n",
       "    </tr>\n",
       "  </thead>\n",
       "  <tbody>\n",
       "    <tr>\n",
       "      <th>0</th>\n",
       "      <td>9.0</td>\n",
       "      <td>''smith sisters murdered anonymously'</td>\n",
       "    </tr>\n",
       "    <tr>\n",
       "      <th>1</th>\n",
       "      <td>6.0</td>\n",
       "      <td>'32 deuce coupe to buy</td>\n",
       "    </tr>\n",
       "    <tr>\n",
       "      <th>2</th>\n",
       "      <td>6.0</td>\n",
       "      <td>'ac dc adaptors'</td>\n",
       "    </tr>\n",
       "    <tr>\n",
       "      <th>3</th>\n",
       "      <td>8.0</td>\n",
       "      <td>'aiwa 230v tv vcr'</td>\n",
       "    </tr>\n",
       "    <tr>\n",
       "      <th>4</th>\n",
       "      <td>8.0</td>\n",
       "      <td>'bbq parts'</td>\n",
       "    </tr>\n",
       "  </tbody>\n",
       "</table>\n",
       "</div>"
      ],
      "text/plain": [
       "   ItemRank                                Queries\n",
       "0       9.0  ''smith sisters murdered anonymously'\n",
       "1       6.0                 '32 deuce coupe to buy\n",
       "2       6.0                       'ac dc adaptors'\n",
       "3       8.0                     'aiwa 230v tv vcr'\n",
       "4       8.0                            'bbq parts'"
      ]
     },
     "execution_count": 16,
     "metadata": {},
     "output_type": "execute_result"
    }
   ],
   "source": [
    "mostAttempts = mostAttempts.reset_index(drop=True)\n",
    "mostAttempts.head()"
   ]
  },
  {
   "cell_type": "code",
   "execution_count": 17,
   "metadata": {
    "collapsed": false
   },
   "outputs": [
    {
     "data": {
      "text/html": [
       "<div>\n",
       "<table border=\"1\" class=\"dataframe\">\n",
       "  <thead>\n",
       "    <tr style=\"text-align: right;\">\n",
       "      <th></th>\n",
       "      <th>DomainName</th>\n",
       "      <th>Count</th>\n",
       "    </tr>\n",
       "  </thead>\n",
       "  <tbody>\n",
       "    <tr>\n",
       "      <th>0</th>\n",
       "      <td>google</td>\n",
       "      <td>38547</td>\n",
       "    </tr>\n",
       "    <tr>\n",
       "      <th>1</th>\n",
       "      <td>yahoo</td>\n",
       "      <td>35685</td>\n",
       "    </tr>\n",
       "    <tr>\n",
       "      <th>2</th>\n",
       "      <td>myspace</td>\n",
       "      <td>20267</td>\n",
       "    </tr>\n",
       "    <tr>\n",
       "      <th>3</th>\n",
       "      <td>about</td>\n",
       "      <td>15186</td>\n",
       "    </tr>\n",
       "    <tr>\n",
       "      <th>4</th>\n",
       "      <td>ebay</td>\n",
       "      <td>10481</td>\n",
       "    </tr>\n",
       "  </tbody>\n",
       "</table>\n",
       "</div>"
      ],
      "text/plain": [
       "  DomainName  Count\n",
       "0     google  38547\n",
       "1      yahoo  35685\n",
       "2    myspace  20267\n",
       "3      about  15186\n",
       "4       ebay  10481"
      ]
     },
     "execution_count": 17,
     "metadata": {},
     "output_type": "execute_result"
    }
   ],
   "source": [
    "initial['Domain'] = initial.ClickURL.apply(URLcleaner)\n",
    "frequrl = initial.groupby(['Domain'])['Domain'].count().to_frame()\n",
    "frequrl['DomainName'] = list(frequrl.index)\n",
    "frequrl['Count'] = frequrl['Domain']\n",
    "frequrl= frequrl[['DomainName', 'Count']]\n",
    "frequrl= frequrl.sort_values(by='Count', ascending=False)\n",
    "frequrl = frequrl.reset_index(drop=True)\n",
    "frequrl.head()"
   ]
  },
  {
   "cell_type": "code",
   "execution_count": 18,
   "metadata": {
    "collapsed": false
   },
   "outputs": [],
   "source": [
    "timedf = data[[\"AnonID\", \"QueryTime\"]]\n",
    "timedf.head()\n",
    "timedf['QueryDate'] = pd.to_datetime(timedf['QueryTime']).apply(lambda x: x.date())\n",
    "timedf['QueryTimeStamp'] = pd.to_datetime(timedf['QueryTime']).apply(lambda x: x.time())\n",
    "timedf['TOD'] = timedf['QueryTimeStamp'].apply(lambda x: timeOfDay(x))"
   ]
  },
  {
   "cell_type": "code",
   "execution_count": 19,
   "metadata": {
    "collapsed": false
   },
   "outputs": [],
   "source": [
    "clickless = data[data.ClickURL.isnull()]\n",
    "clickless['QueryTimeStamp'] = pd.to_datetime(clickless['QueryTime']).apply(lambda x: x.time())\n",
    "clickless['TOD'] = clickless['QueryTimeStamp'].apply(lambda x: timeOfDay(x))"
   ]
  },
  {
   "cell_type": "code",
   "execution_count": 20,
   "metadata": {
    "collapsed": false
   },
   "outputs": [
    {
     "data": {
      "text/plain": [
       "<matplotlib.axes._subplots.AxesSubplot at 0x17cd4a198>"
      ]
     },
     "execution_count": 20,
     "metadata": {},
     "output_type": "execute_result"
    },
    {
     "data": {
      "image/png": "[encoded data removed]",
      "text/plain": [
       "<matplotlib.figure.Figure at 0x114b6d438>"
      ]
     },
     "metadata": {},
     "output_type": "display_data"
    }
   ],
   "source": [
    "sufferingUsers = clickless.groupby(['TOD'])['AnonID'].count().to_frame()\n",
    "timing = timedf.groupby(['TOD'])['AnonID'].count().to_frame()\n",
    "sufferingUsers\n",
    "timing['Suffering_Users'] = sufferingUsers.AnonID\n",
    "timing.plot(kind='bar', color=['yellowgreen','tomato'])"
   ]
  },
  {
   "cell_type": "code",
   "execution_count": 21,
   "metadata": {
    "collapsed": false
   },
   "outputs": [],
   "source": [
    "durationmax = timedf.groupby(['AnonID'])['QueryTimeStamp'].max()\n",
    "durationmin = timedf.groupby(['AnonID'])['QueryTimeStamp'].min()"
   ]
  },
  {
   "cell_type": "code",
   "execution_count": 22,
   "metadata": {
    "collapsed": false
   },
   "outputs": [],
   "source": [
    "dmax = durationmax.to_frame()\n",
    "dmin = durationmin.to_frame()\n",
    "dmin['AnonID'] = list(dmin.index)\n",
    "dmax['AnonID'] = list(dmax.index)\n",
    "dmin = dmin.reset_index(drop=True)\n",
    "dmax = dmax.reset_index(drop=True)\n",
    "duration = pd.merge(dmax, dmin, on='AnonID', how='inner')\n",
    "duration = duration.rename(columns={'QueryTimeStamp_x': 'MaxTime', 'QueryTimeStamp_y': 'MinTime'})\n",
    "dulist = duration['MaxTime'].apply(time2date) - duration['MinTime'].apply(time2date)\n",
    "duration['TimeSpent'] = dulist\n",
    "duration = duration[['AnonID','TimeSpent']]\n",
    "timesummary = duration.TimeSpent.describe().to_frame()"
   ]
  },
  {
   "cell_type": "code",
   "execution_count": 23,
   "metadata": {
    "collapsed": false
   },
   "outputs": [
    {
     "data": {
      "text/html": [
       "<div>\n",
       "<table border=\"1\" class=\"dataframe\">\n",
       "  <thead>\n",
       "    <tr style=\"text-align: right;\">\n",
       "      <th></th>\n",
       "      <th>TimeSpent</th>\n",
       "    </tr>\n",
       "  </thead>\n",
       "  <tbody>\n",
       "    <tr>\n",
       "      <th>count</th>\n",
       "      <td>66000</td>\n",
       "    </tr>\n",
       "    <tr>\n",
       "      <th>mean</th>\n",
       "      <td>12:10:13</td>\n",
       "    </tr>\n",
       "    <tr>\n",
       "      <th>std</th>\n",
       "      <td>08:22:37</td>\n",
       "    </tr>\n",
       "    <tr>\n",
       "      <th>min</th>\n",
       "      <td>00:00:00</td>\n",
       "    </tr>\n",
       "    <tr>\n",
       "      <th>25%</th>\n",
       "      <td>04:41:26</td>\n",
       "    </tr>\n",
       "    <tr>\n",
       "      <th>50%</th>\n",
       "      <td>12:15:41</td>\n",
       "    </tr>\n",
       "    <tr>\n",
       "      <th>75%</th>\n",
       "      <td>21:03:37</td>\n",
       "    </tr>\n",
       "    <tr>\n",
       "      <th>max</th>\n",
       "      <td>23:59:59</td>\n",
       "    </tr>\n",
       "  </tbody>\n",
       "</table>\n",
       "</div>"
      ],
      "text/plain": [
       "       TimeSpent\n",
       "count      66000\n",
       "mean    12:10:13\n",
       "std     08:22:37\n",
       "min     00:00:00\n",
       "25%     04:41:26\n",
       "50%     12:15:41\n",
       "75%     21:03:37\n",
       "max     23:59:59"
      ]
     },
     "execution_count": 23,
     "metadata": {},
     "output_type": "execute_result"
    }
   ],
   "source": [
    "def deltaformat(x):\n",
    "    x = str(x)\n",
    "    if 'days' in x:\n",
    "        return x.split(\"days\")[1].split('.')[0]\n",
    "    elif '.' in x:\n",
    "        return x.split(\"days\")[1].split('.')[0]\n",
    "    else:\n",
    "        return x\n",
    "    \n",
    "timesummary.TimeSpent = timesummary.TimeSpent.apply(deltaformat)\n",
    "timesummary"
   ]
  },
  {
   "cell_type": "code",
   "execution_count": 24,
   "metadata": {
    "collapsed": false
   },
   "outputs": [],
   "source": [
    "#Satisfaction Levels\n",
    "def numRanks(df):\n",
    "    x =df[df.ItemRank<=2.0].ItemRank.count()/df.Query.count() \n",
    "    return x"
   ]
  },
  {
   "cell_type": "code",
   "execution_count": 25,
   "metadata": {
    "collapsed": false
   },
   "outputs": [],
   "source": [
    "userDict= {}\n",
    "for user in userlist:\n",
    "    userDict[user]= data[data.AnonID==user]"
   ]
  },
  {
   "cell_type": "code",
   "execution_count": 27,
   "metadata": {
    "collapsed": false
   },
   "outputs": [],
   "source": [
    "userUsage={}\n",
    "singleUser=0\n",
    "for user in userDict.keys():\n",
    "    if numRanks(userDict[user])>0.8:\n",
    "        if userDict[user].shape[0]==1:\n",
    "            singleUser= singleUser+1\n",
    "        userUsage[user]=numRanks(userDict[user])"
   ]
  },
  {
   "cell_type": "code",
   "execution_count": 28,
   "metadata": {
    "collapsed": false
   },
   "outputs": [
    {
     "data": {
      "image/png": "[encoded data removed]",
      "text/plain": [
       "<matplotlib.figure.Figure at 0x188bccfd0>"
      ]
     },
     "metadata": {},
     "output_type": "display_data"
    },
    {
     "data": {
      "image/png": "[encoded data removed]",
      "text/plain": [
       "<matplotlib.figure.Figure at 0x17057ae80>"
      ]
     },
     "metadata": {},
     "output_type": "display_data"
    }
   ],
   "source": [
    "plt.figure()\n",
    "values1 = [(data.shape[0]/data.shape[0]),(len(userUsage)/data.shape[0])] \n",
    "labels1 = ['All Users', 'Targetable Audience(Promotion Opportunities)'] \n",
    "colors1 = ['lightskyblue', 'lightcoral'] \n",
    "plt.axis('equal')\n",
    "plt.pie(values1, labels=labels1, autopct='%.2f', colors=colors1)\n",
    "plt.savefig('TargetAudience.png')\n",
    "plt.show()\n",
    "values2 = [(len(userUsage)/len(userUsage)), (singleUser/len(userUsage))] \n",
    "labels2 = ['Targetable Audience', 'First time Users (Retention Promotion)'] \n",
    "# colors2= ['yellowgreen', 'mediumpurple']\n",
    "plt.axis('equal')\n",
    "explode1 = (0, 0.1)\n",
    "plt.pie(values2, labels=labels2, autopct='%.2f', explode=explode1, colors=colors1)\n",
    "plt.savefig('RententionPlans.png')\n",
    "plt.show()"
   ]
  },
  {
   "cell_type": "code",
   "execution_count": 29,
   "metadata": {
    "collapsed": false
   },
   "outputs": [
    {
     "data": {
      "image/png": "[encoded data removed]",
      "text/plain": [
       "<matplotlib.figure.Figure at 0x188bcc630>"
      ]
     },
     "metadata": {},
     "output_type": "display_data"
    }
   ],
   "source": [
    "cleandata = data.dropna()\n",
    "plt.figure()\n",
    "values1 = [data.shape[0]/data.shape[0],cleandata.shape[0]/data.shape[0]] \n",
    "labels1 = ['NaN Queries', 'Queries With Results'] \n",
    "colors1 = ['mediumpurple','lightskyblue'] \n",
    "plt.pie(values1, labels=labels1, autopct='%.2f', colors=colors1)\n",
    "plt.axis('equal')\n",
    "plt.savefig('NaNQueries.png')\n",
    "plt.show()"
   ]
  },
  {
   "cell_type": "code",
   "execution_count": 30,
   "metadata": {
    "collapsed": false
   },
   "outputs": [],
   "source": [
    "clickless['QueryDay'] = pd.to_datetime(timedf['QueryTime']).apply(lambda x: x.date())"
   ]
  },
  {
   "cell_type": "code",
   "execution_count": 31,
   "metadata": {
    "collapsed": false
   },
   "outputs": [],
   "source": [
    "NaNdays = clickless.groupby(['QueryDay'])['AnonID'].count().to_frame()\n",
    "alldays = timedf.groupby(['QueryDate'])['AnonID'].count().to_frame()\n",
    "NaNdays['Date'] = list(NaNdays.index)\n",
    "alldays['Date'] = list(alldays.index)\n",
    "compDays = pd.merge(NaNdays, alldays, on='Date')\n",
    "compDays['NanRequests'] = compDays['AnonID_x']\n",
    "compDays['AllRequests'] = compDays['AnonID_y']\n",
    "compDays = compDays[['Date', 'AllRequests','NanRequests']]\n",
    "compDays = compDays.sort_values(by='NanRequests', ascending=False)"
   ]
  },
  {
   "cell_type": "code",
   "execution_count": 32,
   "metadata": {
    "collapsed": false
   },
   "outputs": [
    {
     "data": {
      "text/plain": [
       "<matplotlib.axes._subplots.AxesSubplot at 0x136191eb8>"
      ]
     },
     "execution_count": 32,
     "metadata": {},
     "output_type": "execute_result"
    },
    {
     "data": {
      "image/png": "[encoded data removed]",
      "text/plain": [
       "<matplotlib.figure.Figure at 0x107114668>"
      ]
     },
     "metadata": {},
     "output_type": "display_data"
    }
   ],
   "source": [
    "compDays.head(20).plot(x='Date', kind='bar', color=['greenyellow', 'orangered'])"
   ]
  },
  {
   "cell_type": "code",
   "execution_count": 33,
   "metadata": {
    "collapsed": false
   },
   "outputs": [],
   "source": [
    "data['QueryDay'] = pd.to_datetime(data['QueryTime']).apply(lambda x: x.date())"
   ]
  },
  {
   "cell_type": "code",
   "execution_count": null,
   "metadata": {
    "collapsed": false
   },
   "outputs": [],
   "source": []
  },
  {
   "cell_type": "code",
   "execution_count": 61,
   "metadata": {
    "collapsed": false
   },
   "outputs": [
    {
     "data": {
      "text/html": [
       "<div>\n",
       "<table border=\"1\" class=\"dataframe\">\n",
       "  <thead>\n",
       "    <tr style=\"text-align: right;\">\n",
       "      <th></th>\n",
       "      <th>AnonID</th>\n",
       "      <th>QueryTime</th>\n",
       "      <th>QueryDate</th>\n",
       "      <th>QueryTimeStamp</th>\n",
       "      <th>TOD</th>\n",
       "    </tr>\n",
       "  </thead>\n",
       "  <tbody>\n",
       "    <tr>\n",
       "      <th>0</th>\n",
       "      <td>479</td>\n",
       "      <td>2006-03-01 16:01:20</td>\n",
       "      <td>2006-03-01</td>\n",
       "      <td>16:01:20</td>\n",
       "      <td>3Evening</td>\n",
       "    </tr>\n",
       "    <tr>\n",
       "      <th>1</th>\n",
       "      <td>479</td>\n",
       "      <td>2006-03-02 14:48:55</td>\n",
       "      <td>2006-03-02</td>\n",
       "      <td>14:48:55</td>\n",
       "      <td>2Afternoon</td>\n",
       "    </tr>\n",
       "    <tr>\n",
       "      <th>2</th>\n",
       "      <td>479</td>\n",
       "      <td>2006-03-03 22:37:46</td>\n",
       "      <td>2006-03-03</td>\n",
       "      <td>22:37:46</td>\n",
       "      <td>4Night</td>\n",
       "    </tr>\n",
       "    <tr>\n",
       "      <th>3</th>\n",
       "      <td>479</td>\n",
       "      <td>2006-03-03 22:42:42</td>\n",
       "      <td>2006-03-03</td>\n",
       "      <td>22:42:42</td>\n",
       "      <td>4Night</td>\n",
       "    </tr>\n",
       "    <tr>\n",
       "      <th>4</th>\n",
       "      <td>479</td>\n",
       "      <td>2006-03-03 22:42:42</td>\n",
       "      <td>2006-03-03</td>\n",
       "      <td>22:42:42</td>\n",
       "      <td>4Night</td>\n",
       "    </tr>\n",
       "  </tbody>\n",
       "</table>\n",
       "</div>"
      ],
      "text/plain": [
       "   AnonID            QueryTime   QueryDate QueryTimeStamp         TOD\n",
       "0     479  2006-03-01 16:01:20  2006-03-01       16:01:20    3Evening\n",
       "1     479  2006-03-02 14:48:55  2006-03-02       14:48:55  2Afternoon\n",
       "2     479  2006-03-03 22:37:46  2006-03-03       22:37:46      4Night\n",
       "3     479  2006-03-03 22:42:42  2006-03-03       22:42:42      4Night\n",
       "4     479  2006-03-03 22:42:42  2006-03-03       22:42:42      4Night"
      ]
     },
     "execution_count": 61,
     "metadata": {},
     "output_type": "execute_result"
    }
   ],
   "source": [
    "timedf.head()"
   ]
  },
  {
   "cell_type": "code",
   "execution_count": 108,
   "metadata": {
    "collapsed": false
   },
   "outputs": [],
   "source": [
    "from sklearn import preprocessing\n",
    "from sklearn.cluster import KMeans\n",
    "from sklearn.cross_validation import train_test_split\n",
    "clustervar = data.copy().dropna()\n",
    "clustervar['QueryTimeStamp'] = pd.to_datetime(clustervar['QueryTime']).apply(lambda x: x.time())"
   ]
  },
  {
   "cell_type": "code",
   "execution_count": 86,
   "metadata": {
    "collapsed": false
   },
   "outputs": [],
   "source": [
    "def date2hours(d):\n",
    "    h = d.hour + d.minute / 60. + d.second / 3600\n",
    "    return float(h)"
   ]
  },
  {
   "cell_type": "code",
   "execution_count": 109,
   "metadata": {
    "collapsed": false
   },
   "outputs": [],
   "source": [
    "clustervar['Hours']= clustervar.QueryTimeStamp.apply(lambda x: date2hours(x))"
   ]
  },
  {
   "cell_type": "code",
   "execution_count": 110,
   "metadata": {
    "collapsed": false
   },
   "outputs": [],
   "source": [
    "clustervar = clustervar[['ItemRank', 'Hours']]\n",
    "# clustervar['ItemRank']=preprocessing.scale(clustervar['ItemRank'].astype('float64'))\n",
    "# clustervar['Hours']=preprocessing.scale(clustervar['Hours'].astype('float64'))"
   ]
  },
  {
   "cell_type": "code",
   "execution_count": 111,
   "metadata": {
    "collapsed": false
   },
   "outputs": [
    {
     "data": {
      "text/html": [
       "<div>\n",
       "<table border=\"1\" class=\"dataframe\">\n",
       "  <thead>\n",
       "    <tr style=\"text-align: right;\">\n",
       "      <th></th>\n",
       "      <th>ItemRank</th>\n",
       "      <th>Hours</th>\n",
       "    </tr>\n",
       "  </thead>\n",
       "  <tbody>\n",
       "    <tr>\n",
       "      <th>2</th>\n",
       "      <td>1.0</td>\n",
       "      <td>22.629444</td>\n",
       "    </tr>\n",
       "    <tr>\n",
       "      <th>3</th>\n",
       "      <td>1.0</td>\n",
       "      <td>22.711667</td>\n",
       "    </tr>\n",
       "    <tr>\n",
       "      <th>4</th>\n",
       "      <td>2.0</td>\n",
       "      <td>22.711667</td>\n",
       "    </tr>\n",
       "    <tr>\n",
       "      <th>5</th>\n",
       "      <td>4.0</td>\n",
       "      <td>23.336667</td>\n",
       "    </tr>\n",
       "    <tr>\n",
       "      <th>6</th>\n",
       "      <td>1.0</td>\n",
       "      <td>23.336667</td>\n",
       "    </tr>\n",
       "  </tbody>\n",
       "</table>\n",
       "</div>"
      ],
      "text/plain": [
       "   ItemRank      Hours\n",
       "2       1.0  22.629444\n",
       "3       1.0  22.711667\n",
       "4       2.0  22.711667\n",
       "5       4.0  23.336667\n",
       "6       1.0  23.336667"
      ]
     },
     "execution_count": 111,
     "metadata": {},
     "output_type": "execute_result"
    }
   ],
   "source": [
    "clustervar.head()"
   ]
  },
  {
   "cell_type": "code",
   "execution_count": 112,
   "metadata": {
    "collapsed": false
   },
   "outputs": [],
   "source": [
    "clus_train, clus_test = train_test_split(clustervar, test_size=.3, random_state=123)\n",
    "\n",
    "# k-means cluster analysis for 1-9 clusters                                                           \n",
    "from scipy.spatial.distance import cdist\n",
    "clusters=range(1,10)\n",
    "meandist=[]\n",
    "\n",
    "for k in clusters:\n",
    "    model=KMeans(n_clusters=k)\n",
    "    model.fit(clus_train)\n",
    "    clusassign=model.predict(clus_train)\n",
    "    meandist.append(sum(np.min(cdist(clus_train, model.cluster_centers_, 'euclidean'), axis=1)) \n",
    "    / clus_train.shape[0])"
   ]
  },
  {
   "cell_type": "code",
   "execution_count": 113,
   "metadata": {
    "collapsed": false
   },
   "outputs": [
    {
     "data": {
      "text/plain": [
       "<matplotlib.text.Text at 0x174042d68>"
      ]
     },
     "execution_count": 113,
     "metadata": {},
     "output_type": "execute_result"
    },
    {
     "data": {
      "image/png": "[encoded data removed]",
      "text/plain": [
       "<matplotlib.figure.Figure at 0x189bfffd0>"
      ]
     },
     "metadata": {},
     "output_type": "display_data"
    }
   ],
   "source": [
    "plt.plot(clusters, meandist)\n",
    "plt.xlabel('Number of clusters')\n",
    "plt.ylabel('Average distance')\n",
    "plt.title('Selecting k with the Elbow Method')"
   ]
  },
  {
   "cell_type": "code",
   "execution_count": 120,
   "metadata": {
    "collapsed": false
   },
   "outputs": [
    {
     "data": {
      "image/png": "[encoded data removed]",
      "text/plain": [
       "<matplotlib.figure.Figure at 0x173698f28>"
      ]
     },
     "metadata": {},
     "output_type": "display_data"
    }
   ],
   "source": [
    "model3=KMeans(n_clusters=5)\n",
    "model3.fit(clus_train)\n",
    "# clusassign=model3.predict(clus_train)\n",
    "# plot clusters\n",
    "\n",
    "from sklearn.decomposition import PCA\n",
    "# pca_2 = PCA(2)\n",
    "# plot_columns = pca_2.fit_transform(clus_train)\n",
    "plt.scatter(x=clustervar.ItemRank, y=clustervar.Hours)\n",
    "plt.xlabel('Canonical variable 1')\n",
    "plt.ylabel('Canonical variable 2')\n",
    "plt.title('Scatterplot of Canonical Variables for 3 Clusters')\n",
    "plt.show()"
   ]
  },
  {
   "cell_type": "code",
   "execution_count": 124,
   "metadata": {
    "collapsed": false
   },
   "outputs": [
    {
     "data": {
      "text/plain": [
       "500.0"
      ]
     },
     "execution_count": 124,
     "metadata": {},
     "output_type": "execute_result"
    }
   ],
   "source": [
    "clustervar.ItemRank.max()"
   ]
  },
  {
   "cell_type": "code",
   "execution_count": null,
   "metadata": {
    "collapsed": true
   },
   "outputs": [],
   "source": []
  }
 ],
 "metadata": {
  "kernelspec": {
   "display_name": "Python 3",
   "language": "python",
   "name": "python3"
  },
  "language_info": {
   "codemirror_mode": {
    "name": "ipython",
    "version": 3
   },
   "file_extension": ".py",
   "mimetype": "text/x-python",
   "name": "python",
   "nbconvert_exporter": "python",
   "pygments_lexer": "ipython3",
   "version": "3.5.1"
  }
 },
 "nbformat": 4,
 "nbformat_minor": 0
}
