{
 "cells": [
  {
   "cell_type": "code",
   "execution_count": 387,
   "metadata": {
    "collapsed": false
   },
   "outputs": [],
   "source": [
    "import pandas as pd\n",
    "import numpy as np\n",
    "import collections\n",
    "import operator #\n",
    "import scipy\n",
    "from sklearn import linear_model\n",
    "from itertools import groupby\n",
    "import matplotlib.pyplot as plt\n",
    "from datetime import datetime\n",
    "%matplotlib inline"
   ]
  },
  {
   "cell_type": "markdown",
   "metadata": {},
   "source": [
    "#### Loading the Dataset  \n",
    "We then check the shape of the dataframe to check if it was imported properly."
   ]
  },
  {
   "cell_type": "code",
   "execution_count": 372,
   "metadata": {
    "collapsed": false
   },
   "outputs": [
    {
     "data": {
      "text/plain": [
       "(3614506, 5)"
      ]
     },
     "execution_count": 372,
     "metadata": {},
     "output_type": "execute_result"
    }
   ],
   "source": [
    "#Load the dataset\n",
    "data = pd.read_csv(\"/Users/Rohit/Desktop/Data/test.txt\", sep=\"\\t\")\n",
    "data.shape"
   ]
  },
  {
   "cell_type": "markdown",
   "metadata": {},
   "source": [
    "##### Get Search Results that lead to no ClickURL"
   ]
  },
  {
   "cell_type": "code",
   "execution_count": 373,
   "metadata": {
    "collapsed": false
   },
   "outputs": [],
   "source": [
    "clickless = data[data.ClickURL.isnull()]"
   ]
  },
  {
   "cell_type": "code",
   "execution_count": 374,
   "metadata": {
    "collapsed": false
   },
   "outputs": [
    {
     "data": {
      "text/plain": [
       "(1678893, 5)"
      ]
     },
     "execution_count": 374,
     "metadata": {},
     "output_type": "execute_result"
    }
   ],
   "source": [
    "clickless.shape"
   ]
  },
  {
   "cell_type": "code",
   "execution_count": 375,
   "metadata": {
    "collapsed": false
   },
   "outputs": [
    {
     "data": {
      "text/plain": [
       "0.5355124600706155"
      ]
     },
     "execution_count": 375,
     "metadata": {},
     "output_type": "execute_result"
    }
   ],
   "source": [
    "#There are 16788893 rows that have null value, it's only returns accurate results 53% of the time\n",
    "unreliabilty = (data.shape[0] - clickless.shape[0])/data.shape[0]\n",
    "unreliabilty #Percentage"
   ]
  },
  {
   "cell_type": "markdown",
   "metadata": {},
   "source": [
    "We can see there are 1678893 entries in the *clickless* dataframe that have NaN ClickURLs.  \n",
    "That is **53%** of the total queries. Which leaves us with a reliability of only **47%**"
   ]
  },
  {
   "cell_type": "code",
   "execution_count": 376,
   "metadata": {
    "collapsed": false
   },
   "outputs": [],
   "source": [
    "def dtformat(x):\n",
    "    return datetime.strptime(x, '%Y-%m-%d %H:%M:%S').time()"
   ]
  },
  {
   "cell_type": "code",
   "execution_count": 377,
   "metadata": {
    "collapsed": true
   },
   "outputs": [],
   "source": [
    "def threshold(value, total):\n",
    "    if value < (total-2)/total:\n",
    "        return value\n",
    "    else:\n",
    "        return 1"
   ]
  },
  {
   "cell_type": "code",
   "execution_count": 378,
   "metadata": {
    "collapsed": false
   },
   "outputs": [],
   "source": [
    "def simCheck(s1,s2):\n",
    "    ls = len(s1.split(\" \"))\n",
    "    lo = len(s2.split(\" \"))\n",
    "    if lo == ls:\n",
    "        l = ls\n",
    "        flag = 0\n",
    "        if len(s1) < len(s2):\n",
    "            s = s1\n",
    "            o = s2\n",
    "        else:\n",
    "            s = s2\n",
    "            o = s1\n",
    "        \n",
    "        for word in s.split(\" \"):\n",
    "            for other in o.split(\" \"):\n",
    "                if word == other:\n",
    "                    flag = flag +1 \n",
    "                    print(word)\n",
    "        simfactor = flag / l\n",
    "        print(flag)\n",
    "        print(2* l)\n",
    "        return threshold(simfactor, 2 * l) #Percentage of similarity between two sentences\n",
    "    else:\n",
    "        return 0"
   ]
  },
  {
   "cell_type": "code",
   "execution_count": 379,
   "metadata": {
    "collapsed": false
   },
   "outputs": [
    {
     "data": {
      "text/plain": [
       "(1678893, 5)"
      ]
     },
     "execution_count": 379,
     "metadata": {},
     "output_type": "execute_result"
    }
   ],
   "source": [
    "dfClick = clickless #Making a copy\n",
    "dfClick.shape"
   ]
  },
  {
   "cell_type": "markdown",
   "metadata": {
    "collapsed": false,
    "scrolled": true
   },
   "source": [
    "#### When do these Null values occur the most?\n",
    "We know that there are a lot of null values, so first we start to see if there's a correlation between the occurance of the null values and the time of the day. So I've taken the *QueryTime* into a list and converted it into a *datetime* format for use. To get a frequency, I've simply used the frequency of the same time which reflects on when **ONE** query was made.  \n",
    "To add to that, I've also listed the unique time slots in the dataframe, to map it against the frequency in the form of a line graph.  "
   ]
  },
  {
   "cell_type": "code",
   "execution_count": 380,
   "metadata": {
    "collapsed": false
   },
   "outputs": [],
   "source": [
    "dfClickTimes = dfClick['QueryTime']\n",
    "timelist = [datetime.strptime(date, '%Y-%m-%d %H:%M:%S').time() for date in dfClickTimes]\n",
    "timelist.sort()\n",
    "uniquetime = list(set(timelist))\n",
    "uniquetime.sort()"
   ]
  },
  {
   "cell_type": "code",
   "execution_count": 381,
   "metadata": {
    "collapsed": true
   },
   "outputs": [],
   "source": [
    "dfTotalTimes = data['QueryTime']\n",
    "allTime = [datetime.strptime(date, '%Y-%m-%d %H:%M:%S').time() for date in dfTotalTimes]\n",
    "allTime.sort()\n",
    "alluniquetime= list(set(allTime))\n",
    "alluniquetime.sort()"
   ]
  },
  {
   "cell_type": "code",
   "execution_count": 363,
   "metadata": {
    "collapsed": true
   },
   "outputs": [],
   "source": [
    "totalFreq = [len(list(group)) for key, group in groupby(allTime)]"
   ]
  },
  {
   "cell_type": "code",
   "execution_count": 364,
   "metadata": {
    "collapsed": false
   },
   "outputs": [],
   "source": [
    "frequencyofNaN = [len(list(group)) for key, group in groupby(timelist)]"
   ]
  },
  {
   "cell_type": "code",
   "execution_count": 388,
   "metadata": {
    "collapsed": false
   },
   "outputs": [
    {
     "name": "stderr",
     "output_type": "stream",
     "text": [
      "//anaconda/lib/python3.5/site-packages/sklearn/utils/validation.py:386: DeprecationWarning:\n",
      "\n",
      "Passing 1d arrays as data is deprecated in 0.17 and willraise ValueError in 0.19. Reshape your data either using X.reshape(-1, 1) if your data has a single feature or X.reshape(1, -1) if it contains a single sample.\n",
      "\n"
     ]
    },
    {
     "ename": "TypeError",
     "evalue": "float() argument must be a string or a number, not 'datetime.time'",
     "output_type": "error",
     "traceback": [
      "\u001b[0;31m---------------------------------------------------------------------------\u001b[0m",
      "\u001b[0;31mTypeError\u001b[0m                                 Traceback (most recent call last)",
      "\u001b[0;32m<ipython-input-388-9d8a9daed7ac>\u001b[0m in \u001b[0;36m<module>\u001b[0;34m()\u001b[0m\n\u001b[1;32m      8\u001b[0m \u001b[0;34m\u001b[0m\u001b[0m\n\u001b[1;32m      9\u001b[0m \u001b[0;31m# Train the model using the training sets\u001b[0m\u001b[0;34m\u001b[0m\u001b[0;34m\u001b[0m\u001b[0m\n\u001b[0;32m---> 10\u001b[0;31m \u001b[0mregr\u001b[0m\u001b[0;34m.\u001b[0m\u001b[0mfit\u001b[0m\u001b[0;34m(\u001b[0m\u001b[0mfreqNaN_train\u001b[0m\u001b[0;34m,\u001b[0m \u001b[0muniquetime_train\u001b[0m\u001b[0;34m)\u001b[0m\u001b[0;34m\u001b[0m\u001b[0m\n\u001b[0m",
      "\u001b[0;32m//anaconda/lib/python3.5/site-packages/sklearn/linear_model/base.py\u001b[0m in \u001b[0;36mfit\u001b[0;34m(self, X, y, sample_weight)\u001b[0m\n\u001b[1;32m    425\u001b[0m         \u001b[0mn_jobs_\u001b[0m \u001b[0;34m=\u001b[0m \u001b[0mself\u001b[0m\u001b[0;34m.\u001b[0m\u001b[0mn_jobs\u001b[0m\u001b[0;34m\u001b[0m\u001b[0m\n\u001b[1;32m    426\u001b[0m         X, y = check_X_y(X, y, accept_sparse=['csr', 'csc', 'coo'],\n\u001b[0;32m--> 427\u001b[0;31m                          y_numeric=True, multi_output=True)\n\u001b[0m\u001b[1;32m    428\u001b[0m \u001b[0;34m\u001b[0m\u001b[0m\n\u001b[1;32m    429\u001b[0m         \u001b[0;32mif\u001b[0m \u001b[0;34m(\u001b[0m\u001b[0;34m(\u001b[0m\u001b[0msample_weight\u001b[0m \u001b[0;32mis\u001b[0m \u001b[0;32mnot\u001b[0m \u001b[0;32mNone\u001b[0m\u001b[0;34m)\u001b[0m \u001b[0;32mand\u001b[0m \u001b[0mnp\u001b[0m\u001b[0;34m.\u001b[0m\u001b[0matleast_1d\u001b[0m\u001b[0;34m(\u001b[0m\u001b[0msample_weight\u001b[0m\u001b[0;34m)\u001b[0m\u001b[0;34m.\u001b[0m\u001b[0mndim\u001b[0m \u001b[0;34m>\u001b[0m \u001b[0;36m1\u001b[0m\u001b[0;34m)\u001b[0m\u001b[0;34m:\u001b[0m\u001b[0;34m\u001b[0m\u001b[0m\n",
      "\u001b[0;32m//anaconda/lib/python3.5/site-packages/sklearn/utils/validation.py\u001b[0m in \u001b[0;36mcheck_X_y\u001b[0;34m(X, y, accept_sparse, dtype, order, copy, force_all_finite, ensure_2d, allow_nd, multi_output, ensure_min_samples, ensure_min_features, y_numeric, warn_on_dtype, estimator)\u001b[0m\n\u001b[1;32m    516\u001b[0m         \u001b[0m_assert_all_finite\u001b[0m\u001b[0;34m(\u001b[0m\u001b[0my\u001b[0m\u001b[0;34m)\u001b[0m\u001b[0;34m\u001b[0m\u001b[0m\n\u001b[1;32m    517\u001b[0m     \u001b[0;32mif\u001b[0m \u001b[0my_numeric\u001b[0m \u001b[0;32mand\u001b[0m \u001b[0my\u001b[0m\u001b[0;34m.\u001b[0m\u001b[0mdtype\u001b[0m\u001b[0;34m.\u001b[0m\u001b[0mkind\u001b[0m \u001b[0;34m==\u001b[0m \u001b[0;34m'O'\u001b[0m\u001b[0;34m:\u001b[0m\u001b[0;34m\u001b[0m\u001b[0m\n\u001b[0;32m--> 518\u001b[0;31m         \u001b[0my\u001b[0m \u001b[0;34m=\u001b[0m \u001b[0my\u001b[0m\u001b[0;34m.\u001b[0m\u001b[0mastype\u001b[0m\u001b[0;34m(\u001b[0m\u001b[0mnp\u001b[0m\u001b[0;34m.\u001b[0m\u001b[0mfloat64\u001b[0m\u001b[0;34m)\u001b[0m\u001b[0;34m\u001b[0m\u001b[0m\n\u001b[0m\u001b[1;32m    519\u001b[0m \u001b[0;34m\u001b[0m\u001b[0m\n\u001b[1;32m    520\u001b[0m     \u001b[0mcheck_consistent_length\u001b[0m\u001b[0;34m(\u001b[0m\u001b[0mX\u001b[0m\u001b[0;34m,\u001b[0m \u001b[0my\u001b[0m\u001b[0;34m)\u001b[0m\u001b[0;34m\u001b[0m\u001b[0m\n",
      "\u001b[0;31mTypeError\u001b[0m: float() argument must be a string or a number, not 'datetime.time'"
     ]
    }
   ],
   "source": [
    "freqNaN_train = frequencyofNaN[:-20]\n",
    "freqNaN_test = frequencyofNaN[-20:]\n",
    "uniquetime_train = uniquetime[:-20]\n",
    "uniquetime_test = uniquetime[-20:]\n",
    "\n",
    "# Create linear regression object\n",
    "regr = linear_model.LinearRegression()\n",
    "\n",
    "# Train the model using the training sets\n",
    "regr.fit(freqNaN_train, uniquetime_train)"
   ]
  },
  {
   "cell_type": "code",
   "execution_count": null,
   "metadata": {
    "collapsed": true
   },
   "outputs": [],
   "source": [
    "freqNaN_train = frequencyofNaN[:-20]\n",
    "freqNaN_test = frequencyofNaN[-20:]\n",
    "uniquetime_train = diabetes.target[:-20]\n",
    "uniquetime_test = diabetes.target[-20:]\n",
    "\n",
    "# Create linear regression object\n",
    "regr = linear_model.LinearRegression()\n",
    "\n",
    "# Train the model using the training sets\n",
    "regr.fit(freqNaN_train, uniquetime_train)\n",
    "\n",
    "# The coefficients\n",
    "print('Coefficients: \\n', regr.coef_)\n",
    "# The mean square error\n",
    "print(\"Residual sum of squares: %.2f\"\n",
    "      % np.mean((regr.predict(diabetes_X_test) - diabetes_y_test) ** 2))\n",
    "# Explained variance score: 1 is perfect prediction\n",
    "print('Variance score: %.2f' % regr.score(diabetes_X_test, diabetes_y_test))\n",
    "\n",
    "# Plot outputs\n",
    "plt.scatter(diabetes_X_test, diabetes_y_test,  color='black')\n",
    "plt.plot(diabetes_X_test, regr.predict(diabetes_X_test), color='blue',\n",
    "         linewidth=3)\n"
   ]
  },
  {
   "cell_type": "code",
   "execution_count": 383,
   "metadata": {
    "collapsed": false
   },
   "outputs": [
    {
     "data": {
      "image/png": "[encoded data removed]",
      "text/plain": [
       "<matplotlib.figure.Figure at 0x2411ddd68>"
      ]
     },
     "metadata": {},
     "output_type": "display_data"
    }
   ],
   "source": [
    "\n",
    "\n",
    "# cross_val_predict returns an array of the same size as `y` where each entry\n",
    "# is a prediction obtained by cross validated:\n",
    "predicted = cross_val_predict(lr, boston.data, y, cv=10)\n",
    "\n",
    "plt.plot(uniquetime, frequencyofNaN, label='Freq of NaN through the day')\n",
    "plt.plot(alluniquetime, totalFreq, color='r', label='Total Freq')\n",
    "plt.ylabel('Frequency of NaN')\n",
    "plt.xlabel('Time of Day')\n",
    "plt.title('Freq of Nan in a Day')\n",
    "plt.xticks(rotation='vertical')\n",
    "plt.legend()\n",
    "plt.show()"
   ]
  },
  {
   "cell_type": "markdown",
   "metadata": {},
   "source": [
    "There is clearly rise in the overall Null Clicks towards the late evenings and nights. But this information alone isn't helpful since the overall throughput increases at the same time.. So we're going to dig a little deeper as to why we get these null values.  \n",
    "\n",
    "When we analyse the query itself, we see that the unique queries take **46.8%** of the total queries that return null ClickURLs."
   ]
  },
  {
   "cell_type": "code",
   "execution_count": 294,
   "metadata": {
    "collapsed": false
   },
   "outputs": [
    {
     "data": {
      "text/plain": [
       "0.4681531223252465"
      ]
     },
     "execution_count": 294,
     "metadata": {},
     "output_type": "execute_result"
    }
   ],
   "source": [
    "#No of unique null queries/No of null queries \n",
    "clickless.Query.unique().shape[0]/clickless.shape[0]"
   ]
  },
  {
   "cell_type": "markdown",
   "metadata": {},
   "source": [
    "But taking a closer look at the data, we see there are a few queries with spelling errors."
   ]
  },
  {
   "cell_type": "code",
   "execution_count": 368,
   "metadata": {
    "collapsed": false
   },
   "outputs": [
    {
     "data": {
      "text/html": [
       "<div>\n",
       "<table border=\"1\" class=\"dataframe\">\n",
       "  <thead>\n",
       "    <tr style=\"text-align: right;\">\n",
       "      <th></th>\n",
       "      <th>AnonID</th>\n",
       "      <th>Query</th>\n",
       "      <th>QueryTime</th>\n",
       "      <th>ItemRank</th>\n",
       "      <th>ClickURL</th>\n",
       "    </tr>\n",
       "  </thead>\n",
       "  <tbody>\n",
       "    <tr>\n",
       "      <th>0</th>\n",
       "      <td>479</td>\n",
       "      <td>family guy</td>\n",
       "      <td>2006-03-01 16:01:20</td>\n",
       "      <td>NaN</td>\n",
       "      <td>NaN</td>\n",
       "    </tr>\n",
       "    <tr>\n",
       "      <th>1</th>\n",
       "      <td>479</td>\n",
       "      <td>also sprach zarathustra</td>\n",
       "      <td>2006-03-02 14:48:55</td>\n",
       "      <td>NaN</td>\n",
       "      <td>NaN</td>\n",
       "    </tr>\n",
       "    <tr>\n",
       "      <th>10</th>\n",
       "      <td>479</td>\n",
       "      <td>car sponsor decals</td>\n",
       "      <td>2006-03-03 23:28:59</td>\n",
       "      <td>NaN</td>\n",
       "      <td>NaN</td>\n",
       "    </tr>\n",
       "    <tr>\n",
       "      <th>11</th>\n",
       "      <td>479</td>\n",
       "      <td>car brand name decals</td>\n",
       "      <td>2006-03-03 23:29:35</td>\n",
       "      <td>NaN</td>\n",
       "      <td>NaN</td>\n",
       "    </tr>\n",
       "    <tr>\n",
       "      <th>12</th>\n",
       "      <td>479</td>\n",
       "      <td>brand name decals</td>\n",
       "      <td>2006-03-03 23:29:58</td>\n",
       "      <td>NaN</td>\n",
       "      <td>NaN</td>\n",
       "    </tr>\n",
       "    <tr>\n",
       "      <th>19</th>\n",
       "      <td>479</td>\n",
       "      <td>chicago radio annoucer whip</td>\n",
       "      <td>2006-03-04 22:16:07</td>\n",
       "      <td>NaN</td>\n",
       "      <td>NaN</td>\n",
       "    </tr>\n",
       "    <tr>\n",
       "      <th>20</th>\n",
       "      <td>479</td>\n",
       "      <td>chicago radio whip</td>\n",
       "      <td>2006-03-04 22:16:27</td>\n",
       "      <td>NaN</td>\n",
       "      <td>NaN</td>\n",
       "    </tr>\n",
       "    <tr>\n",
       "      <th>30</th>\n",
       "      <td>479</td>\n",
       "      <td>howard stern lawsuit</td>\n",
       "      <td>2006-03-08 00:14:55</td>\n",
       "      <td>NaN</td>\n",
       "      <td>NaN</td>\n",
       "    </tr>\n",
       "    <tr>\n",
       "      <th>32</th>\n",
       "      <td>479</td>\n",
       "      <td>opec</td>\n",
       "      <td>2006-03-09 09:19:29</td>\n",
       "      <td>NaN</td>\n",
       "      <td>NaN</td>\n",
       "    </tr>\n",
       "    <tr>\n",
       "      <th>40</th>\n",
       "      <td>479</td>\n",
       "      <td>wto history</td>\n",
       "      <td>2006-03-13 18:48:27</td>\n",
       "      <td>NaN</td>\n",
       "      <td>NaN</td>\n",
       "    </tr>\n",
       "    <tr>\n",
       "      <th>48</th>\n",
       "      <td>479</td>\n",
       "      <td>www.galleryhost.com</td>\n",
       "      <td>2006-03-15 01:13:14</td>\n",
       "      <td>NaN</td>\n",
       "      <td>NaN</td>\n",
       "    </tr>\n",
       "    <tr>\n",
       "      <th>50</th>\n",
       "      <td>479</td>\n",
       "      <td>ronny van zant</td>\n",
       "      <td>2006-03-22 00:23:17</td>\n",
       "      <td>NaN</td>\n",
       "      <td>NaN</td>\n",
       "    </tr>\n",
       "    <tr>\n",
       "      <th>51</th>\n",
       "      <td>479</td>\n",
       "      <td>ronnie van zant</td>\n",
       "      <td>2006-03-22 00:23:55</td>\n",
       "      <td>NaN</td>\n",
       "      <td>NaN</td>\n",
       "    </tr>\n",
       "    <tr>\n",
       "      <th>52</th>\n",
       "      <td>479</td>\n",
       "      <td>zack wylde</td>\n",
       "      <td>2006-03-22 00:25:01</td>\n",
       "      <td>NaN</td>\n",
       "      <td>NaN</td>\n",
       "    </tr>\n",
       "    <tr>\n",
       "      <th>53</th>\n",
       "      <td>479</td>\n",
       "      <td>zack wylde lead singer</td>\n",
       "      <td>2006-03-22 00:26:26</td>\n",
       "      <td>NaN</td>\n",
       "      <td>NaN</td>\n",
       "    </tr>\n",
       "    <tr>\n",
       "      <th>55</th>\n",
       "      <td>479</td>\n",
       "      <td>www.whitesox.xom</td>\n",
       "      <td>2006-03-22 11:38:16</td>\n",
       "      <td>NaN</td>\n",
       "      <td>NaN</td>\n",
       "    </tr>\n",
       "    <tr>\n",
       "      <th>60</th>\n",
       "      <td>479</td>\n",
       "      <td>things that exist but u cant see</td>\n",
       "      <td>2006-03-27 19:00:03</td>\n",
       "      <td>NaN</td>\n",
       "      <td>NaN</td>\n",
       "    </tr>\n",
       "    <tr>\n",
       "      <th>63</th>\n",
       "      <td>479</td>\n",
       "      <td>germa translator</td>\n",
       "      <td>2006-03-31 15:44:15</td>\n",
       "      <td>NaN</td>\n",
       "      <td>NaN</td>\n",
       "    </tr>\n",
       "    <tr>\n",
       "      <th>67</th>\n",
       "      <td>479</td>\n",
       "      <td>city wallpaper</td>\n",
       "      <td>2006-04-11 23:12:46</td>\n",
       "      <td>NaN</td>\n",
       "      <td>NaN</td>\n",
       "    </tr>\n",
       "    <tr>\n",
       "      <th>68</th>\n",
       "      <td>479</td>\n",
       "      <td>www.prariestate.edu</td>\n",
       "      <td>2006-04-19 00:44:58</td>\n",
       "      <td>NaN</td>\n",
       "      <td>NaN</td>\n",
       "    </tr>\n",
       "  </tbody>\n",
       "</table>\n",
       "</div>"
      ],
      "text/plain": [
       "    AnonID                             Query            QueryTime  ItemRank  \\\n",
       "0      479                        family guy  2006-03-01 16:01:20       NaN   \n",
       "1      479           also sprach zarathustra  2006-03-02 14:48:55       NaN   \n",
       "10     479                car sponsor decals  2006-03-03 23:28:59       NaN   \n",
       "11     479             car brand name decals  2006-03-03 23:29:35       NaN   \n",
       "12     479                 brand name decals  2006-03-03 23:29:58       NaN   \n",
       "19     479       chicago radio annoucer whip  2006-03-04 22:16:07       NaN   \n",
       "20     479                chicago radio whip  2006-03-04 22:16:27       NaN   \n",
       "30     479              howard stern lawsuit  2006-03-08 00:14:55       NaN   \n",
       "32     479                              opec  2006-03-09 09:19:29       NaN   \n",
       "40     479                       wto history  2006-03-13 18:48:27       NaN   \n",
       "48     479               www.galleryhost.com  2006-03-15 01:13:14       NaN   \n",
       "50     479                    ronny van zant  2006-03-22 00:23:17       NaN   \n",
       "51     479                   ronnie van zant  2006-03-22 00:23:55       NaN   \n",
       "52     479                        zack wylde  2006-03-22 00:25:01       NaN   \n",
       "53     479            zack wylde lead singer  2006-03-22 00:26:26       NaN   \n",
       "55     479                  www.whitesox.xom  2006-03-22 11:38:16       NaN   \n",
       "60     479  things that exist but u cant see  2006-03-27 19:00:03       NaN   \n",
       "63     479                  germa translator  2006-03-31 15:44:15       NaN   \n",
       "67     479                    city wallpaper  2006-04-11 23:12:46       NaN   \n",
       "68     479               www.prariestate.edu  2006-04-19 00:44:58       NaN   \n",
       "\n",
       "   ClickURL  \n",
       "0       NaN  \n",
       "1       NaN  \n",
       "10      NaN  \n",
       "11      NaN  \n",
       "12      NaN  \n",
       "19      NaN  \n",
       "20      NaN  \n",
       "30      NaN  \n",
       "32      NaN  \n",
       "40      NaN  \n",
       "48      NaN  \n",
       "50      NaN  \n",
       "51      NaN  \n",
       "52      NaN  \n",
       "53      NaN  \n",
       "55      NaN  \n",
       "60      NaN  \n",
       "63      NaN  \n",
       "67      NaN  \n",
       "68      NaN  "
      ]
     },
     "execution_count": 368,
     "metadata": {},
     "output_type": "execute_result"
    }
   ],
   "source": [
    "clickless.head(20)"
   ]
  },
  {
   "cell_type": "code",
   "execution_count": 15,
   "metadata": {
    "collapsed": false
   },
   "outputs": [],
   "source": [
    "#Given the top choices, we're going to try to look at some patterns in common between the users \n",
    "#that used the most frequented query\n",
    "#Linear reg wouldn't work because its very sensitive to outliers, which is common in modern data\n",
    "#Noticed most mispelled/unclear queries don't get a click."
   ]
  },
  {
   "cell_type": "code",
   "execution_count": null,
   "metadata": {
    "collapsed": false
   },
   "outputs": [],
   "source": [
    "plt.plot(uniquetime, frequencyofNaN, label='Freq of NaN through the day')\n",
    "plt.plot(allTime, totalFreq, label='Freq of NaN through the day')\n",
    "plt.ylabel('Frequency of NaN')\n",
    "plt.xlabel('Time of Day')\n",
    "plt.title('Freq of Nan in a Day')\n",
    "plt.xticks(rotation='vertical')\n",
    "plt.legend()\n",
    "plt.show()"
   ]
  },
  {
   "cell_type": "code",
   "execution_count": null,
   "metadata": {
    "collapsed": true
   },
   "outputs": [],
   "source": []
  }
 ],
 "metadata": {
  "kernelspec": {
   "display_name": "Python 3",
   "language": "python",
   "name": "python3"
  },
  "language_info": {
   "codemirror_mode": {
    "name": "ipython",
    "version": 3
   },
   "file_extension": ".py",
   "mimetype": "text/x-python",
   "name": "python",
   "nbconvert_exporter": "python",
   "pygments_lexer": "ipython3",
   "version": "3.5.1"
  }
 },
 "nbformat": 4,
 "nbformat_minor": 0
}
